{
    "cells": [
        {
            "cell_type": "markdown",
            "metadata": {},
            "source": [
                "Before you begin, execute this cell to import numpy and packages from the D-Wave Ocean suite, and all necessary functions for the gate-model framework you are going to use, whether that is the Forest SDK or Qiskit. In the case of Forest SDK, it also starts the qvm and quilc servers."
            ]
        },
        {
            "cell_type": "code",
            "execution_count": 17,
            "metadata": {
                "ExecuteTime": {
                    "end_time": "2019-01-29T22:01:50.475321Z",
                    "start_time": "2019-01-29T22:01:49.695728Z"
                },
                "collapsed": true
            },
            "outputs": [],
            "source": [
                "# %run -i \"assignment_helper.py\"\n",
                "%matplotlib inline\n",
                "from helper import * \n",
                "import matplotlib.pyplot as plt"
            ]
        },
        {
            "cell_type": "markdown",
            "metadata": {
                "collapsed": true
            },
            "source": [
                "# Quantum annealing\n",
                "\n",
                "**Exercise 1** (2 points). The thermal state $\\rho=\\frac{1}{Z} \\sum_n e^{-E_n/T} |n\\rangle \\langle n|$ is a Boltzmann distribution over the energy eigenvalues $E_n$ of some Hamiltonian $H$. An open quantum system equilibrates with the environment to this state. Equilibration is hard to simulate classically and therefore this process could be exploited for calculations. Using dimod, create a random Ising model over 5 spins."
            ]
        },
        {
            "cell_type": "code",
            "execution_count": 9,
            "metadata": {
                "ExecuteTime": {
                    "end_time": "2019-01-29T21:52:31.512988Z",
                    "start_time": "2019-01-29T21:52:31.507436Z"
                },
                "collapsed": true
            },
            "outputs": [],
            "source": [
                "import dimod \n",
                "import itertools\n",
                "\n",
                "n_spins = 5\n",
                "\n",
                "\n",
                "h = {v: np.random.uniform(-2, 2) for v in range(n_spins)}\n",
                "J = {}\n",
                "\n",
                "for u, v in itertools.combinations(h, 2):\n",
                "    if np.random.random() < .05:\n",
                "        J[(u, v)] = np.random.uniform(-1, 1)\n"
            ]
        },
        {
            "cell_type": "code",
            "execution_count": 10,
            "metadata": {},
            "outputs": [],
            "source": [
                "model = dimod.BinaryQuadraticModel(h, J, 0.0, dimod.SPIN)\n",
                "sampler = dimod.SimulatedAnnealingSampler()\n"
            ]
        },
        {
            "cell_type": "code",
            "execution_count": 11,
            "metadata": {
                "ExecuteTime": {
                    "end_time": "2019-01-29T21:52:32.433092Z",
                    "start_time": "2019-01-29T21:52:32.429882Z"
                },
                "collapsed": true,
                "deletable": false,
                "editable": false,
                "nbgrader": {
                    "grade": true,
                    "grade_id": "exercise1",
                    "locked": true,
                    "points": "2",
                    "solution": false
                }
            },
            "outputs": [],
            "source": [
                "assert isinstance(model, dimod.binary_quadratic_model.BinaryQuadraticModel), \"Wrong model type\"\n",
                "assert model.vartype == dimod.SPIN, \"Wrong variables: binary model instead of spin system\"\n",
                "assert len(model.variables) == 5, \"Wrong number of spins\""
            ]
        },
        {
            "cell_type": "markdown",
            "metadata": {},
            "source": [
                "**Exercise 2** (2 points). Sample the model at near-zero temperature (0.01) and at a high temperature (100). Write the list of energies in two arrays, `energies_low` and `energies_high`. Note that $\\beta$ denotes the inverse temperature $1/T$."
            ]
        },
        {
            "cell_type": "code",
            "execution_count": 25,
            "metadata": {
                "ExecuteTime": {
                    "end_time": "2019-01-29T21:52:46.422181Z",
                    "start_time": "2019-01-29T21:52:45.192862Z"
                },
                "collapsed": true
            },
            "outputs": [],
            "source": [
                "n_samples = 100\n",
                "\n",
                "temperature_0 = 0.01\n",
                "response = sampler.sample(model, beta_range=[1/temperature_0, 1/temperature_0], num_reads=n_samples)\n",
                "energies_low = [solution.energy for solution in response.data()]\n",
                "temperature_1 = 100\n",
                "response = sampler.sample(model, beta_range=[1/temperature_1, 1/temperature_1], num_reads=n_samples)\n",
                "energies_high = [solution.energy for solution in response.data()]"
            ]
        },
        {
            "cell_type": "code",
            "execution_count": 31,
            "metadata": {
                "ExecuteTime": {
                    "end_time": "2019-01-29T21:52:46.455503Z",
                    "start_time": "2019-01-29T21:52:46.452117Z"
                },
                "collapsed": true,
                "deletable": false,
                "editable": false,
                "nbgrader": {
                    "grade": true,
                    "grade_id": "exercise2",
                    "locked": true,
                    "points": "2",
                    "solution": false
                }
            },
            "outputs": [],
            "source": [
                "assert np.isclose(min(energies_low), max(energies_low)), \"At near-zero temperature, we should only see one energy value, the ground state energy\"\n",
                "assert np.isclose(min(energies_high), min(energies_high)), \"The ground state should appear at both temperatures\"   "
            ]
        },
        {
            "cell_type": "code",
            "execution_count": 33,
            "metadata": {},
            "outputs": [
                {
                    "data": {
                        "text/plain": [
                            "[<matplotlib.lines.Line2D at 0x14c549a7dc0>]"
                        ]
                    },
                    "execution_count": 33,
                    "metadata": {},
                    "output_type": "execute_result"
                },
                {
                    "data": {
                        "image/png": "[encoded data removed]",
                        "text/plain": [
                            "<Figure size 432x288 with 1 Axes>"
                        ]
                    },
                    "metadata": {
                        "needs_background": "light"
                    },
                    "output_type": "display_data"
                }
            ],
            "source": [
                "plt.plot(energies_high)\n",
                "plt.plot(energies_low)"
            ]
        },
        {
            "cell_type": "markdown",
            "metadata": {},
            "source": [
                "# Quantum Approximate Thermalization\n",
                "\n",
                "**Exercise 3** (3 points). In QAOA, we approximated the ground state of a target Hamiltonian, starting from the ground state of a mixer Hamiltonian. We can actually perform the exact same optimization for approximating the thermal state of a target system, starting from the thermal state of some system.\n",
                "\n",
                "We exploit that if we trace out a subsystem of an entangled system, we end up with a mixed state.\n",
                "\n",
                "It can be shown that $| \\psi \\rangle =1/\\sqrt{2 \\cosh \\frac{1}{2T}} \\sum_{z \\in {-1,1}} e^{- z/T} |z \\rangle_{\\mathcal{H_1}} \\otimes | z \\rangle_{\\mathcal{H_2}}$ purifies $\\rho=\\frac{1}{Z}e^{- H_m/T}$ [[1](#1)], where $H_m$ is the mixing Hamiltonian in QAOA. This state can be built with a circuit composed uniquely of RX gates and CNOT gates. Since the overall structure of the algorithm resembles QAOA closely, it is less important to go through the details. Most of it is more about forcing the quantum computing packages to do what we want than about the problem itself. The biggest difference to QAOA is the preparation of the initial state. Prepare this state at inverse temperature $\\beta=0$ in your preferred framework. Note that $\\beta=1/T$, so this corresponds to the infinite temperature. The state preparation should be in an object called `circuit`."
            ]
        },
        {
            "cell_type": "code",
            "execution_count": 35,
            "metadata": {
                "ExecuteTime": {
                    "end_time": "2019-01-29T22:01:59.135749Z",
                    "start_time": "2019-01-29T22:01:59.125142Z"
                },
                "collapsed": true
            },
            "outputs": [],
            "source": [
                "n_qubits = 1\n",
                "β = 0\n",
                "qr = QuantumRegister(n_qubits*2)\n",
                "cr = ClassicalRegister(n_qubits)\n",
                "circuit = QuantumCircuit(qr,cr)\n",
                "\n"
            ]
        },
        {
            "cell_type": "code",
            "execution_count": 36,
            "metadata": {
                "ExecuteTime": {
                    "end_time": "2019-01-29T22:02:01.252611Z",
                    "start_time": "2019-01-29T22:02:00.773007Z"
                },
                "collapsed": true,
                "deletable": false,
                "editable": false,
                "nbgrader": {
                    "grade": true,
                    "grade_id": "exercise3",
                    "locked": true,
                    "points": "3",
                    "solution": false
                }
            },
            "outputs": [
                {
                    "ename": "AssertionError",
                    "evalue": "",
                    "output_type": "error",
                    "traceback": [
                        "\u001b[1;31m---------------------------------------------------------------------------\u001b[0m",
                        "\u001b[1;31mAssertionError\u001b[0m                            Traceback (most recent call last)",
                        "\u001b[1;32md:\\QuantumProjects\\QuantumComputerScience\\QML\\QML Course\\coding_assignments\\08_Sampling_a_Thermal_State.ipynb Cell 13\u001b[0m in \u001b[0;36m<cell line: 2>\u001b[1;34m()\u001b[0m\n\u001b[0;32m      <a href='vscode-notebook-cell:/d%3A/QuantumProjects/QuantumComputerScience/QML/QML%20Course/coding_assignments/08_Sampling_a_Thermal_State.ipynb#X14sZmlsZQ%3D%3D?line=0'>1</a>\u001b[0m amplitudes \u001b[39m=\u001b[39m get_amplitudes(circuit)\n\u001b[1;32m----> <a href='vscode-notebook-cell:/d%3A/QuantumProjects/QuantumComputerScience/QML/QML%20Course/coding_assignments/08_Sampling_a_Thermal_State.ipynb#X14sZmlsZQ%3D%3D?line=1'>2</a>\u001b[0m \u001b[39massert\u001b[39;00m np\u001b[39m.\u001b[39mallclose(amplitudes, np\u001b[39m.\u001b[39marray([\u001b[39m1\u001b[39m\u001b[39m/\u001b[39mnp\u001b[39m.\u001b[39msqrt(\u001b[39m2\u001b[39m), \u001b[39m0\u001b[39m, \u001b[39m0\u001b[39m, \u001b[39m-\u001b[39m\u001b[39m1\u001b[39mj\u001b[39m/\u001b[39mnp\u001b[39m.\u001b[39msqrt(\u001b[39m2\u001b[39m)]))\n",
                        "\u001b[1;31mAssertionError\u001b[0m: "
                    ]
                }
            ],
            "source": [
                "amplitudes = get_amplitudes(circuit)\n",
                "assert np.allclose(amplitudes, np.array([1/np.sqrt(2), 0, 0, -1j/np.sqrt(2)]))"
            ]
        },
        {
            "cell_type": "markdown",
            "metadata": {},
            "source": [
                "**Exercise 4** (1 points).  Create the density matrix for this quantum state in a variable called `dm`."
            ]
        },
        {
            "cell_type": "code",
            "execution_count": null,
            "metadata": {
                "ExecuteTime": {
                    "end_time": "2019-01-29T22:02:12.122651Z",
                    "start_time": "2019-01-29T22:02:12.104843Z"
                },
                "collapsed": true
            },
            "outputs": [],
            "source": [
                "###\n",
                "### YOUR CODE HERE\n",
                "###\n"
            ]
        },
        {
            "cell_type": "code",
            "execution_count": null,
            "metadata": {
                "ExecuteTime": {
                    "end_time": "2019-01-29T22:02:12.656345Z",
                    "start_time": "2019-01-29T22:02:12.650757Z"
                },
                "collapsed": true,
                "deletable": false,
                "editable": false,
                "nbgrader": {
                    "grade": true,
                    "grade_id": "exercise4",
                    "locked": true,
                    "points": "1",
                    "solution": false
                }
            },
            "outputs": [],
            "source": [
                "###\n",
                "### AUTOGRADER TEST - DO NOT REMOVE\n",
                "###\n"
            ]
        },
        {
            "cell_type": "markdown",
            "metadata": {},
            "source": [
                "If you look at the structure of this density matrix and trace out the ancilla system, you get $\\begin{bmatrix}0.5&0\\\\0&0.5\\end{bmatrix}$. That is the maximally mixed state, which corresponds to the thermal state at infinite temperature, which is exactly what we wanted."
            ]
        }
    ],
    "metadata": {
        "kernelspec": {
            "display_name": "Python 3 [3.6]",
            "language": "python",
            "name": "python3"
        },
        "language_info": {
            "codemirror_mode": {
                "name": "ipython",
                "version": 3
            },
            "file_extension": ".py",
            "mimetype": "text/x-python",
            "name": "python",
            "nbconvert_exporter": "python",
            "pygments_lexer": "ipython3",
            "version": "3.10.2"
        },
        "varInspector": {
            "cols": {
                "lenName": 16,
                "lenType": 16,
                "lenVar": 40
            },
            "kernels_config": {
                "python": {
                    "delete_cmd_postfix": "",
                    "delete_cmd_prefix": "del ",
                    "library": "var_list.py",
                    "varRefreshCmd": "print(var_dic_list())"
                },
                "r": {
                    "delete_cmd_postfix": ") ",
                    "delete_cmd_prefix": "rm(",
                    "library": "var_list.r",
                    "varRefreshCmd": "cat(var_dic_list()) "
                }
            },
            "types_to_exclude": [
                "module",
                "function",
                "builtin_function_or_method",
                "instance",
                "_Feature"
            ],
            "window_display": false
        }
    },
    "nbformat": 4,
    "nbformat_minor": 2
}
