{
 "cells": [
  {
   "cell_type": "code",
   "execution_count": 1,
   "metadata": {},
   "outputs": [
    {
     "name": "stdout",
     "output_type": "stream",
     "text": [
      "python    : 3.10.2 (tags/v3.10.2:a58ebcc, Jan 17 2022, 14:12:15) [MSC v.1929 64 bit (AMD64)]\n",
      "qiskit    : 0.24.1 {'qiskit-terra': '0.24.1', 'qiskit-aer': '0.12.0', 'qiskit-ignis': '0.7.1', 'qiskit-ibmq-provider': '0.20.2', 'qiskit': '0.43.1', 'qiskit-nature': None, 'qiskit-finance': None, 'qiskit-optimization': '0.4.0', 'qiskit-machine-learning': None}\n",
      "numpy     : 1.22.3\n",
      "matplotlib: 3.5.1\n"
     ]
    }
   ],
   "source": [
    "# This cell only for package version control\n",
    "import sys\n",
    "import qiskit\n",
    "import numpy\n",
    "import matplotlib\n",
    "print('python    :', sys.version)\n",
    "print('qiskit    :',qiskit.__version__, qiskit.__qiskit_version__)\n",
    "print('numpy     :',numpy.__version__)\n",
    "print('matplotlib:',matplotlib.__version__)"
   ]
  },
  {
   "attachments": {},
   "cell_type": "markdown",
   "metadata": {},
   "source": [
    "## Hybrid computation\n",
    "As fault-tolerant quantum computers are far from being available, the attention has moved to algorithms which can be run on the machines that exist now, known as NISQ (Noisy Intermediate Scale Quantum computer). These devices require circuits of shallow depth (i.e., a reduced number of processing steps or gates, which does not require too much coherence) and robust against errors. This can be achieved by hybrid circuits, which integrate quantum and classical computing.\n",
    "\n",
    "The challenge is that, if we increase the depth of the circuit for better accuracy, the extra decoherence has the effect of adding noise. The performance in noise devices is explored in [6]."
   ]
  },
  {
   "attachments": {},
   "cell_type": "markdown",
   "metadata": {},
   "source": [
    "## Variational methods\n",
    "A major class of hybrid algorithms is that made of variational circuits, which are built with parametric circuits, which depend of parameters that can be optimized by classical techniques. Parametric circuits can be thought of as families of circuits. A particular choice for the values of the parameters defines one member of the family.\n",
    "\n",
    "A variational hybrid algorithm uses a quantum device to compute the value of an objective or cost function $C(\\bar{\\theta})$ for a given set of real parameters $\\bar{\\theta}$. To do that the quantum device implements a parametric circuit $U( \\bar{ \\theta} )$ that prepares a state $U( \\bar{ \\theta} )|\\psi_0\\rangle=|\\psi(\\bar{\\theta})\\rangle$, where $|\\psi_0\\rangle $ is an initial state independent of the parameterization, and then performs a measurement using a Hamiltonian projection operator.\n",
    "A classical processor feeds the quantum circuit the $\\theta$'s and treats the quantum circuit as a black box function that is iteratively queried until the optimum is found for a set $\\bar{\\theta_o}$ . The quality of this optimum, i.e. how well does the solution of the parametric method approach the solution of the original problem, or objective function, depends on the choice of the parametrisation.  \n",
    "\n",
    "Once we have $\\bar{\\theta_o}$ , we can create  $U(\\bar{\\theta_o})|\\psi_0\\rangle=|\\psi(\\bar{\\theta_o})\\rangle$. By sampling this state we obtain a bitstring which, with high probability, is close to the optimum of the objective function. \n",
    "\n",
    "In the end we are not after the optimum expectation value, but after the quantum state that is associated with that value as it codes the bitstring that we are after. The bitstring is the solution, not the circuit parameters or the expectation value of the cost function."
   ]
  },
  {
   "attachments": {},
   "cell_type": "markdown",
   "metadata": {},
   "source": [
    "\n",
    "## Adiabatic computation\n",
    "The quantum approximate optimization algorithm (QAOA) is a shallow-circuit variational algorithm for gate-model quantum computers specially suited for optimization problems, that was inspired in adiabatic computation. This is reflected in the specific parametrisation, which allows the hybrid optimisation to closely approximate an adiabatic algorithm.\n",
    "\n",
    "The adiabatic approach starts with an initial (or mixing) Hamiltonian $H_M$ whose ground state is easy to find. This state is evolved very slowly (adiabatically) to a final 'cost' Hamiltonian $H_C$ whose eigenstates encode the solution. An interpolation Hamiltonian $\\tilde{H}$ is used to connect $H_M$ and $H_C$. If the adiabatic conditions are met, the adiabatic theorem guarantees that the system will remain in its mixing ground state and eventually reach the solution at $t=T$.\n",
    "\n",
    "\n",
    "If $T$ is the time over which the computation is run, we define the dimensionless time $s=t/T$ with $0 \\leq s \\leq 1$ so that we have:\n",
    "\n",
    "$$\n",
    "\\tilde{H}(s) = (1-s)H_M + sH_C \\tag{1}\n",
    "$$\n",
    "\n",
    "So at time $s=0$ our system is governed by $H_M$, at time $s=1$ by $H_C$. Assume that at time $s=0$ we are in the ground state of $H_C$ given by $\\lvert\\Psi(0)\\rangle$. If we evolve our initial state slow enough we end up with the ground state at $s=1$ which corresponds to the ground state of $H_M$, solving the problem we are interested in. The Schrodinger equation tells us that the unitary operator describing the time evolution of a time dependent wave function is given by.\n",
    "\n",
    "$$\n",
    "U(t=1,0) = T_{\\leftarrow} \\exp \\left[ -i \\int_{0}^1 ds \\tilde{H}(s)\\right] \n",
    "$$\n",
    "\n",
    "where $T_{\\leftarrow} $ ensures that the operators are time ordered, which is relevant if you are writing the exponential as a series. \n",
    "\n",
    "$$\n",
    " T_{\\leftarrow} \\exp \\left[ -i \\int_{0}^1  (1-s) H_M ds -i \\int_{0}^1 sH_C ds\\right]\n",
    "$$\n",
    "\n",
    "We have to use that $\\exp(A+B) = \\lim_{n\\to\\infty} (\\exp(A/n)\\exp(B/n))^n$ (Trotter-Suzuki formula), since $H_M$ and $H_C$ do not commute.\n",
    "\n",
    "$$\n",
    "U(t=1,0) = \\lim_{n\\to\\infty} T_{\\leftarrow} \\prod_j^n \\left( \\exp \\left( -\\frac{i}{n}\\int_{0}^1  (1-s) H_M ds\\right) \\exp \\left( -\\frac{i}{n} \\int_{0}^1  s H_C ds\\right)\\right)_j\n",
    "$$\n",
    "\n",
    "Now we can do the integrals, which both give a factor $\\frac{1}{2}$.\n",
    "\n",
    "$$\n",
    "U(t=1,0) =  \\lim_{n\\to\\infty}  \\prod_j^n \\left( \\exp \\left( -\\frac{i}{2n} H_M\\right) \\exp \\left( -\\frac{i}{2n} H_C\\right)\\right)_j \n",
    "$$\n",
    "\n",
    "\n",
    "If we now take $p$ discrete steps instead of an infinite number (at the cost of an error $\\delta(p^2)$), we get\n",
    "\n",
    "$$\n",
    "U(t=1,0) =  \\prod_{j=1}^p \\left(\\exp \\left( - \\frac{i}{2p} H_M\\right) \\exp \\left( - \\frac{i}{2p} H_C\\right) \\right)_j\n",
    "$$\n",
    "\n",
    "Instead of taking discrete equal steps $1/2p$ for both $H_M$ and $H_C$, we take variable size steps $\\beta_j, \\gamma_j$, where $\\beta_j$ and $\\gamma_j$ sum to $\\frac{1}{2p}$, which finally gives:\n",
    "\n",
    "$$\n",
    "\\prod_{j=1}^p \\exp \\left( -i \\beta_j H_M\\right) \\exp \\left( -i \\gamma_j H_C\\right)  = \\prod_{j=1}^p U(H_M,\\beta_j) U(H_C,\\gamma_j)  \\equiv  U \\tag{2}\n",
    "$$\n"
   ]
  },
  {
   "attachments": {},
   "cell_type": "markdown",
   "metadata": {},
   "source": [
    "## QAOA\n",
    "\n",
    "The quantum approximate optimization algorithm (QAOA) is a shallow-circuit variational algorithm for gate-model quantum computers specially suited for optimization problems, that was inspired by adiabatic computation. This is reflected in the specific parametrisation, which allows this hybrid optimisation to closely approximate the adiabatic algorithm.\n",
    "\n",
    "QAOA first generalizes the optimization problem by maximizing (or minimizing) a cost function of the form:\n",
    "\n",
    "$$\n",
    "C(b)=\\sum_{\\alpha =1}^{m}C_\\alpha (b)\\tag{3}\n",
    "$$\n",
    "\n",
    "written as a sum of $m$ clauses $C_\\alpha(b)$ on bitstrings $b\\in \\left \\{ 0,1 \\right \\}^{\\otimes n}$ or equivalently spins $z_i \\in \\left \\{ -1,+1 \\right \\}^{\\otimes n}$. In most of practical cases, an Hamiltonian of higher dimension can be written as a weighted sum of local (i.e., 1 or 2 qubit) operator which act on individual qubits.  To build a full $N \\times N$ Hamiltonian from $2 \\times 2$ Pauli operators we use a tensor product of Identity and Pauli operators like in:\n",
    "\n",
    "$$\n",
    "\\sigma _{i}^{X}\\sigma _{i}^{X} = I\\otimes ...\\otimes \\sigma _{i}^{X} \\otimes  ... \\sigma _{j}^{X} \\otimes ... \\otimes I \\tag{4}\n",
    "$$\n",
    "\n",
    "With this goal,  which we make our system suitable for quantum computation by promoting each spin to a Pauli-Z operator (which has eigenvalues $\\pm 1$).\n",
    "\n",
    "The simplest example of an initial Hamiltonian is one consisting of Pauli operators $H_M = -\\sum_j \\sigma^X_j$, which incidentally its the same as the initial Hamiltonian in quantum annealing.\n",
    "\n",
    "To discretize the cost Hamiltonian (so that we can work in gate model), we proceed as follows:\n",
    "\n",
    "We first define the unitary operator:\n",
    "\n",
    "$$\n",
    "U(H_C,\\beta ):=exp(-i\\beta H_C)=\\prod_{\\alpha =1}^{m}exp(-i\\beta C_\\alpha ) \\tag{5}\n",
    "$$\n",
    "\n",
    "This can be interpreted as simulating $H_C$ during a \"time\" $\\beta$. If we restrict this \"time\" to be between $0$ and $2\\pi$, as the constants $C$ are integer, then we can consider $\\beta$ as an angle of rotation which can be implemented with a gate.\n",
    "\n",
    "Next, for the mixing Hamiltonian we define:\n",
    "\n",
    "$$\n",
    "U(H_M,\\gamma ):=exp(-i\\gamma H_M)=\\prod_{j =1}^{m}exp(-i\\gamma \\sigma _{j}^{X} ) \\tag{6}\n",
    "$$\n",
    "\n",
    "Where $\\sigma _{j}^{X}$ is a Pauli-X operator applied to $j$.\n",
    "\n",
    "\n",
    "By alternately applying $U(H_M,\\beta )$  and $U(H_M,\\gamma )$ we get an expression that generalizes eqn (2)\n",
    "\n",
    "$$\n",
    "U = U(H_M,\\beta_0 )U(H_M,\\gamma_0 )\\ldots U(H_M,\\beta_p )U(H_M,\\gamma_p ) \\tag{7}\n",
    "$$\n",
    "\n",
    "Finally we minimize the objective function $F_p(\\bar{\\beta},\\bar{\\gamma})$ over all $\\beta_i$'s and $\\gamma_i$'s \n",
    "\n",
    "\n",
    "$$\n",
    "F_p(\\bar{\\beta},\\bar{\\gamma})= \\langle \\bar{\\beta},\\bar{\\gamma}|H_C|\\bar{\\beta},\\bar{\\gamma} \\rangle \\tag{8}\n",
    "$$\n",
    "\n",
    "It can be proven using the adiabatic theorem \n",
    "\n",
    "$$\n",
    "\\lim_{p\\to\\infty } max_{\\beta , \\gamma }\\left ( F_{p}\\left ( \\bar{\\beta} ,\\bar{ \\gamma} \\right ) \\right ) =max_{b }\\left ( C\\left ( b \\right ) \\right )\n",
    "$$\n",
    "\n",
    "\n",
    "<br>\n",
    "<img src=\"../../figures/pathways.png\" alt=\"Conceptual comparison of analog Adiabatic (top), quantum simulated adiabatic (middle) and QAOA pathways (bottom)\" style=\"width: 600px;\"/>\n",
    "\n",
    "Conceptual comparison of analog Adiabatic (top), quantum simulated adiabatic (middle) and QAOA pathways (bottom). Modelled after [7]\n",
    "\n",
    "\n",
    "\n",
    "## Algorithm\n",
    "\n",
    "1. We start with an initial state that is an equal superposition over all bitstrings:\n",
    "\n",
    "$$\n",
    "\\left |  \\psi_0 \\right \\rangle = \\frac{1}{\\sqrt{2^{n}}}\\sum_{i=1}^n \\left |  + \\right \\rangle_i\n",
    "$$\n",
    "   by applying a Hadamard to each qubit $H^{\\otimes n} \\left |  0 \\right \\rangle ^{\\otimes n}$\n",
    "\n",
    "2. Evolve the system with the cost Hamiltonian by applying $U(H_C,\\beta )$ for an angle $\\beta$.\n",
    "3. Evolve the system with the mixing Hamiltonian by applying $U(H_M,\\gamma )$ for an angle $\\gamma$.\n",
    "4. Repeat the steps (2) and (3) $p$ times with different parameters $\\beta_j,\\gamma_j$ in each step $j=1,...,p$, obtaining the state:\n",
    "$$\n",
    "|\\bar{\\beta},\\bar{\\gamma}  \\rangle = \\prod_{j=1}^{p}U(H_M,\\gamma_j)U(H_C,\\beta_j)|\\psi_0 \\rangle\n",
    "$$\n",
    "5. Measure in the computational basis to get the expectation value of $H_C$:\n",
    "$$\n",
    "F_p(\\bar{\\beta},\\bar{\\gamma})= \\langle \\bar{\\beta},\\bar{\\gamma}|H_C|\\bar{\\beta},\\bar{\\gamma} \\rangle\n",
    "$$\n",
    "6. Approximate the maximum or minimum of $F_p(\\bar{\\beta},\\bar{\\gamma})$\n",
    "7. Run the circuit many times. The most probable bitstring correspond to the optimum value of the cost function\n",
    "\n",
    "<img src=\"../../figures/QAOA-schema.png\" alt=\"schematic diagram of the steps in the QAOA algorithm\" style=\"width: 600px;\"/>\n",
    "\n",
    "Schematic diagram of the steps in the QAOA algorithm\n",
    "\n",
    "\n"
   ]
  },
  {
   "attachments": {},
   "cell_type": "markdown",
   "metadata": {},
   "source": [
    "# Implementation example\n",
    "As an example, we will minimize the cost function $H_c=-\\sigma^Z_1 \\otimes \\sigma^Z_2$ corresponding to the Ising problem, whose minimum is reached whenever $\\sigma^Z_1 = \\sigma^Z_2$ (for the states $|-1, -1\\rangle$, $|11\\rangle$ or any superposition of both)\n",
    "\n",
    "Lets begin by importing the required packages.\n"
   ]
  },
  {
   "cell_type": "code",
   "execution_count": 2,
   "metadata": {},
   "outputs": [],
   "source": [
    "import itertools\n",
    "import numpy as np\n",
    "from qiskit import Aer, QuantumRegister, ClassicalRegister, QuantumCircuit, execute\n",
    "from qiskit.tools.visualization import circuit_drawer, plot_histogram\n",
    "from scipy.optimize import minimize\n",
    "np.set_printoptions(precision=3, suppress=True)"
   ]
  },
  {
   "attachments": {},
   "cell_type": "markdown",
   "metadata": {},
   "source": [
    "This whole notebook example is built on an example with just 2 qubits. We define some of the basic variables that we will repeatedly need already here"
   ]
  },
  {
   "cell_type": "code",
   "execution_count": 3,
   "metadata": {},
   "outputs": [],
   "source": [
    "n_qubits = 2\n",
    "q = QuantumRegister(n_qubits)\n",
    "c = ClassicalRegister(n_qubits)\n",
    "circuit = QuantumCircuit(q, c)"
   ]
  },
  {
   "attachments": {},
   "cell_type": "markdown",
   "metadata": {},
   "source": [
    "First create the initial state by applying a Hadamard, H (not to be confused with the Hamiltonians, $H_C$ and $H_M$) to each qubit\n",
    "\n",
    "$$\n",
    "\\left |  \\psi_0 \\right \\rangle =H^{\\otimes n} \\left |  0 \\right \\rangle ^{\\otimes n}\n",
    "$$"
   ]
  },
  {
   "cell_type": "code",
   "execution_count": 4,
   "metadata": {},
   "outputs": [],
   "source": [
    "for i in range(n_qubits):\n",
    "    circuit.h(q[i])"
   ]
  },
  {
   "attachments": {},
   "cell_type": "markdown",
   "metadata": {},
   "source": [
    "Next we need evolution operators for $H_C$ and $H_M$ \n",
    "\n",
    "For a simple 2-bit case we can write $H_C  = - \\sum_{i,j}\\sigma_j^Z\\sigma_i^Z$, as a simple 4x4 diagonal matrix:\n",
    "\n",
    "$$\\sigma^Z =  \\begin{pmatrix}\n",
    "1 & 0 \\\\\n",
    "0 & -1\n",
    "\\end{pmatrix}\\text{, so } \\sigma_j^Z\\sigma_i^Z  = \n",
    " \\begin{pmatrix}\n",
    "1 & 0  & 0  &0 \\\\\n",
    "0 & -1 & 0  &0 \\\\\n",
    "0 & 0  & -1 &0 \\\\\n",
    "0 & 0  & 0  &1\n",
    "\\end{pmatrix} $$\n",
    "\n",
    "Hence the evolution of $H_C$ for a period $\\gamma$ , $e^{-j\\gamma H_C}$ can be written as:\n",
    "<br>\n",
    "\n",
    "$$exp(j\\gamma\\sigma_j^Z\\sigma_i^Z) =   \\begin{pmatrix}\n",
    "e^{j\\gamma} & 0  & 0  &0 \\\\\n",
    "0 & e^{-j\\gamma} & 0  &0 \\\\\n",
    "0 & 0  &e^{-j\\gamma} &0 \\\\\n",
    "0 & 0  & 0  &e^{j\\gamma}\n",
    "\\end{pmatrix} $$\n",
    "\n",
    "For a 2-bit system an $R_z(2\\gamma)$ on the second qubit equals the matrix:\n",
    "\n",
    " $R_z(2\\gamma) = \\begin{pmatrix}\n",
    "e^{j\\gamma} & 0  & 0  &0 \\\\\n",
    "0 & e^{-j\\gamma} & 0  &0 \\\\\n",
    "0 & 0  &e^{j\\gamma} &0 \\\\\n",
    "0 & 0  & 0  &e^{-j\\gamma}\n",
    "\\end{pmatrix} $.\n",
    "\n",
    "Applying a CX(0,1) operation before and after the  $R_z(2\\gamma)$ swaps the last two elements on the diagonal. So we can implement the evolution operator for $H_C$ with a sequence CX(0,1).Rz($\\gamma$,1).CX(0,1)"
   ]
  },
  {
   "attachments": {},
   "cell_type": "markdown",
   "metadata": {},
   "source": [
    "As we have seen, the simplest mixing Hamiltonian most frequently used is is one consisting of Pauli $\\sigma^X$ operators\n",
    "\n",
    " $H_M = -\\sum_j \\sigma^X_j$\n",
    "\n",
    "as $\\sigma^X =  \\begin{pmatrix}\n",
    "0 &1 \\\\\n",
    "1 & 0\n",
    "\\end{pmatrix} $ it can easily be shown by a Taylor expansion of the exponent that the evolution of $H_M$ on a single qubit for a period $\\beta$ equals\n",
    "\n",
    "$exp\\left(-j \\beta H_M\\right)  = exp(j\\beta\\sigma^X)=  \\begin{pmatrix}\n",
    "cos(\\beta) &-jsin(\\beta) \\\\\n",
    "-jsin(\\beta) & cos(\\beta)\n",
    "\\end{pmatrix} $ , \n",
    "\n",
    "which is an $R_x$ rotation over $2\\beta$.\n",
    "\n",
    "Hence we can implement the evolution of $H_M$ for a period $\\beta$ as an application of $R_x(2\\beta)$ on all individual qubits."
   ]
  },
  {
   "cell_type": "code",
   "execution_count": 5,
   "metadata": {},
   "outputs": [],
   "source": [
    "# We define the number of steps p, and some randomly chosen beta's and gamma's\n",
    "p = 2\n",
    "\n",
    "beta = np.random.uniform(0, 2*np.pi, p)\n",
    "gamma = np.random.uniform(0, 2*np.pi, p)"
   ]
  },
  {
   "cell_type": "code",
   "execution_count": 6,
   "metadata": {},
   "outputs": [],
   "source": [
    "# Run onlu once! \n",
    "# We apply now the evolution operators\n",
    "for i in range(p):\n",
    "    # apply gamma's\n",
    "    circuit.cx(q[0],q[1])\n",
    "    circuit.rz(2*gamma[i],q[1])\n",
    "    circuit.cx(q[0],q[1])\n",
    "    # apply beta's\n",
    "    circuit.rx(2*beta[i], q[0])\n",
    "    circuit.rx(2*beta[i], q[1])"
   ]
  },
  {
   "cell_type": "code",
   "execution_count": 8,
   "metadata": {},
   "outputs": [
    {
     "name": "stdout",
     "output_type": "stream",
     "text": [
      "      ┌───┐                        ┌────────────┐                         »\n",
      "q0_0: ┤ H ├──■──────────────────■──┤ Rx(7.9754) ├──■───────────────────■──»\n",
      "      ├───┤┌─┴─┐┌────────────┐┌─┴─┐├────────────┤┌─┴─┐┌─────────────┐┌─┴─┐»\n",
      "q0_1: ┤ H ├┤ X ├┤ Rz(4.8475) ├┤ X ├┤ Rx(7.9754) ├┤ X ├┤ Rz(0.37386) ├┤ X ├»\n",
      "      └───┘└───┘└────────────┘└───┘└────────────┘└───┘└─────────────┘└───┘»\n",
      "c0: 2/════════════════════════════════════════════════════════════════════»\n",
      "                                                                          »\n",
      "«      ┌────────────┐\n",
      "«q0_0: ┤ Rx(9.7333) ├\n",
      "«      ├────────────┤\n",
      "«q0_1: ┤ Rx(9.7333) ├\n",
      "«      └────────────┘\n",
      "«c0: 2/══════════════\n",
      "«                    \n"
     ]
    }
   ],
   "source": [
    "print(circuit)"
   ]
  },
  {
   "attachments": {},
   "cell_type": "markdown",
   "metadata": {},
   "source": [
    "Finally we need to compute the expectation value for the energy $F_p(\\bar{\\beta},\\bar{\\gamma})$ for these particular values of the parameters $\\bar{\\beta}$ and $\\bar{\\gamma}$ \n",
    "\n",
    "We use the state simulator to compute the vector representation of the state $|\\bar{\\beta}, \\bar{\\gamma}>$. As $H_C$  is diagonal in the computational (i.e. z-) basis we can easily calculate the matrix product $ \\langle\\bar{\\beta},\\bar{\\gamma}|H_C|\\bar{\\beta},\\bar{\\gamma}  \\rangle$ to get the expectation value for the energy. \n"
   ]
  },
  {
   "cell_type": "code",
   "execution_count": 11,
   "metadata": {},
   "outputs": [
    {
     "name": "stdout",
     "output_type": "stream",
     "text": [
      "Expectation value for cost Hamiltonian:  (-0.7408873059364516+0j)\n"
     ]
    }
   ],
   "source": [
    "#compute statevector |β, γ>\n",
    "backend = Aer.get_backend('statevector_simulator')\n",
    "job = execute(circuit, backend)\n",
    "state = np.asarray(job.result().get_statevector(circuit))\n",
    "# compute expectation <β,γ|Hc|β,γ>\n",
    "pauli_z = np.array([[1,0],[0,-1]])\n",
    "H = np.kron(pauli_z, pauli_z)\n",
    "H_expectation = -1*state @ H @ state.conj().T\n",
    "   \n",
    "print('Expectation value for cost Hamiltonian: ', H_expectation)"
   ]
  },
  {
   "attachments": {},
   "cell_type": "markdown",
   "metadata": {},
   "source": [
    "We will now put all these steps into a callback routine that is required for the optimization. The minimize routine from Scipy varies a single np.array [beta_gamma] that holds the parameters,  $\\bar{\\beta}$ and  $\\bar{\\gamma}$, to minimize the Hamiltonian objective $F_p(\\bar{\\beta},\\bar{\\gamma})= \\langle \\bar{\\beta},\\bar{\\gamma}|H_C|\\bar{\\beta},\\bar{\\gamma} \\rangle$. "
   ]
  },
  {
   "cell_type": "code",
   "execution_count": 12,
   "metadata": {},
   "outputs": [],
   "source": [
    "def evaluate_cost_hamiltonian(beta_gamma):\n",
    "    \n",
    "# extract the beta's and the gamma's from the single parameter np.array\n",
    "    n = len(beta_gamma)//2\n",
    "    beta  = beta_gamma[:n]\n",
    "    gamma = beta_gamma[n:]\n",
    "\n",
    "# Define a 'clean' circuit and initiate the qubits to a full superposition initial state\n",
    "    n_qubits = 2\n",
    "    circuit = QuantumCircuit(q, c)\n",
    "    for i in range(n_qubits):\n",
    "        circuit.h(q[i])\n",
    "\n",
    "    for i in range(p):\n",
    "        # apply gamma's\n",
    "        circuit.cx(q[0],q[1])\n",
    "        circuit.rz(2*gamma[i],q[1])\n",
    "        circuit.cx(q[0],q[1])\n",
    "        # apply beta's\n",
    "        circuit.rx(2*beta[i], q[0])\n",
    "        circuit.rx(2*beta[i], q[1])\n",
    "        \n",
    "#compute statevector\n",
    "    backend = Aer.get_backend('statevector_simulator')\n",
    "    job = execute(circuit, backend)\n",
    "    state = np.asarray(job.result().get_statevector(circuit))\n",
    "        \n",
    "# compute expectation\n",
    "    pauli_z = np.array([[1,0],[0,-1]])\n",
    "    H = np.kron(pauli_z, pauli_z)\n",
    "    H_expectation = -1*state @ H @ state.conj().T\n",
    "\n",
    "    return np.real(H_expectation)"
   ]
  },
  {
   "attachments": {},
   "cell_type": "markdown",
   "metadata": {},
   "source": [
    "With the cost function defined, we can now run the Scipy minimize function with the optimization method of our choice."
   ]
  },
  {
   "cell_type": "code",
   "execution_count": 13,
   "metadata": {},
   "outputs": [
    {
     "data": {
      "text/plain": [
       "  message: CONVERGENCE: NORM_OF_PROJECTED_GRADIENT_<=_PGTOL\n",
       "  success: True\n",
       "   status: 0\n",
       "      fun: -0.9999999999992912\n",
       "        x: [ 3.365e+00  5.870e+00  6.231e+00  2.389e+00]\n",
       "      nit: 7\n",
       "      jac: [-5.107e-07 -2.898e-06 -6.661e-08 -1.887e-06]\n",
       "     nfev: 45\n",
       "     njev: 9\n",
       " hess_inv: <4x4 LbfgsInvHessProduct with dtype=float64>"
      ]
     },
     "execution_count": 13,
     "metadata": {},
     "output_type": "execute_result"
    }
   ],
   "source": [
    "# Choose the number of steps, p, and initiate the gamma's and beta's accordingly\n",
    "p = 2\n",
    "\n",
    "beta = np.random.uniform(0, 2*np.pi, p)\n",
    "gamma = np.random.uniform(0, 2*np.pi, p)\n",
    "\n",
    "result = minimize(evaluate_cost_hamiltonian, np.concatenate([beta, gamma]), method='L-BFGS-B')\n",
    "result"
   ]
  },
  {
   "attachments": {},
   "cell_type": "markdown",
   "metadata": {},
   "source": [
    "# Analysis of the results\n",
    "\n",
    "We create a circuit using the optimal parameters $\\bar{\\beta_o}$,$\\bar{\\gamma_o}$ found."
   ]
  },
  {
   "cell_type": "code",
   "execution_count": 14,
   "metadata": {},
   "outputs": [],
   "source": [
    "# extract the optimal β's and γ's from the result.x attribute\n",
    "\n",
    "beta  = result.x[:p]\n",
    "gamma = result.x[p:]\n",
    "\n",
    "#Create the initial state Ψ0  \n",
    "n_qubits = 2\n",
    "circuit = QuantumCircuit(q, c)\n",
    "for i in range(n_qubits):\n",
    "    circuit.h(q[i])    \n",
    "\n",
    "#apply the evolution unitaries\n",
    "\n",
    "for i in range(p):\n",
    "    # apply gamma's\n",
    "    circuit.cx(q[0],q[1])\n",
    "    circuit.rz(-2*gamma[i],q[1])\n",
    "    circuit.cx(q[0],q[1])\n",
    "    # apply beta's\n",
    "    circuit.rx(-2*beta[i], q[0])\n",
    "    circuit.rx(-2*beta[i], q[1])"
   ]
  },
  {
   "attachments": {},
   "cell_type": "markdown",
   "metadata": {},
   "source": [
    "We use the `statevector_simulator` backend in order to display the state created by the circuit."
   ]
  },
  {
   "cell_type": "code",
   "execution_count": 17,
   "metadata": {},
   "outputs": [
    {
     "name": "stdout",
     "output_type": "stream",
     "text": [
      "[-0.667+0.236j  0.   +0.j     0.   +0.j    -0.667+0.236j]\n",
      "[0.707 0.    0.    0.707]\n"
     ]
    }
   ],
   "source": [
    "backend = Aer.get_backend('statevector_simulator')\n",
    "job = execute(circuit, backend)\n",
    "state = np.asarray(job.result().get_statevector(circuit))\n",
    "print(state)\n",
    "print(np.abs(state))\n"
   ]
  },
  {
   "attachments": {},
   "cell_type": "markdown",
   "metadata": {},
   "source": [
    "We see that the state is approximately $e^{i \\theta} \\frac{1}{\\sqrt{2}} \\left( |00 \\rangle + |11 \\rangle \\right)$, where $\\theta$ is a phase factor that doesn't change the probabilities. It corresponds to a uniform superposition of the two solutions of the classical problem: $(\\sigma_1=1$, $\\sigma_2=1)$ and $(\\sigma_1=-1$, $\\sigma_2=-1)$"
   ]
  },
  {
   "attachments": {},
   "cell_type": "markdown",
   "metadata": {},
   "source": [
    "## Further considerations\n",
    "\n",
    "The example above has show that a simple parametarisation of the operator space can be effective in locating the solution of our optimization problem. However, as you may have spotted, we did not use a true quantum algorithm, as the computation of the expectation value was based on an explicit computation of H through the wavefunction simulator. So essentially we did a classical exhaustive calculation of all the eigenvalues. When the number of qbits increases it is exactly this calculation that becomes impossible on a classical device and is the reason we need to switch over to a true quantum machine. \n",
    "\n",
    "In the next section we rebuild the algorithm, but this time we use the regular quantum simulator for the evaluation of the objective function, and likewise for the evaluation of the resulting circuit. The probabilistic nature of our quantum output will produce ' noisy' derivatives that will confuse algorithms that rely on a gradient calculation, like the 'L-BFGS-B' algorithm. Therefor we use a gradient-free method like ' COBYLA' or 'Nelder-Mead' as our classical optimization algorithm.\n",
    "\n",
    "\n",
    "$$\n",
    "\\left<H\\right>=\\left<-\\sum_{ij}\\sigma_i\\sigma_j\\right>, \\quad \\sigma \\in \\left\\{ -1,1 \\right\\}\n",
    "$$\n",
    "\n",
    "As the qubit values are +/-1 we need to transform this expresssion substituting\n",
    "\n",
    "$$\\sigma = 2*(q-1),\\quad q \\in \\left\\{ 0,1 \\right\\},\\sigma \\in \\left\\{ -1,1 \\right\\}$$\n",
    "to yield\n",
    "\n",
    "\\begin{align}\n",
    "\\left<H\\right>&=-\\left<\\sum_{ij}(2*q_i-1)(2*q_j-1)\\right>, \\quad q \\in \\left\\{ 0,1 \\right\\} \\\\\n",
    "&=-\\sum_{ij}p_{ij}(2*q_i-1)(2*q_j-1),   \\\\\n",
    "\\end{align}\n",
    "\n",
    "\n",
    "with $p_{ij}$ the probability of finding qubits i,j in a specific state. Running $N=\\sum_{ij} m_{ij}$ simulations this is approximated by:\n",
    "\n",
    "\n",
    "$$\n",
    "\\left<H\\right> \\approx -\\sum_{ij}\\frac{m_{ij}}{N}(2*q_i-1)(2*q_j-1)\n",
    "$$\n",
    "\n"
   ]
  },
  {
   "attachments": {},
   "cell_type": "markdown",
   "metadata": {},
   "source": [
    "Use the quantum simulator from this point forward"
   ]
  },
  {
   "cell_type": "code",
   "execution_count": 18,
   "metadata": {},
   "outputs": [],
   "source": [
    "backend = Aer.get_backend('qasm_simulator')"
   ]
  },
  {
   "cell_type": "code",
   "execution_count": 19,
   "metadata": {},
   "outputs": [],
   "source": [
    "def evaluate_quantum_cost_hamiltonian(beta_gamma):\n",
    "    \n",
    "# extract the beta's and the gamma's from the single parameter np.array\n",
    "    n = len(beta_gamma)//2\n",
    "    beta  = beta_gamma[:n]\n",
    "    gamma = beta_gamma[n:]\n",
    "\n",
    "# Define a 'clean' circuit and initiate the qubits to a full superposition initial state\n",
    "    q = QuantumRegister(n_qubits)\n",
    "    c = ClassicalRegister(n_qubits)\n",
    "    circuit = QuantumCircuit(q, c)\n",
    "    \n",
    "    for i in range(n_qubits):\n",
    "        circuit.h(q[i])\n",
    "\n",
    "    for i in range(p):\n",
    "        # apply gamma's\n",
    "        circuit.cx(q[0],q[1])\n",
    "        circuit.rz(2*gamma[i],q[1])\n",
    "        circuit.cx(q[0],q[1])\n",
    "        # apply beta's\n",
    "        circuit.rx(2*beta[i], q[0])\n",
    "        circuit.rx(2*beta[i], q[1])\n",
    "        \n",
    "   \n",
    "    circuit.measure(q, c)\n",
    "    shots = 500\n",
    "    job = execute(circuit, backend, shots=shots)\n",
    "\n",
    "    result = job.result().get_counts(circuit)\n",
    "\n",
    "# compute expectation\n",
    "    H_expectation = 0\n",
    "    for i in range(n_qubits):\n",
    "        for j in range(n_qubits):\n",
    "            multiplicity = result.get(str(i)+str(j), 0)\n",
    "            H_expectation -= multiplicity*(2*i-1)*(2*j-1)\n",
    "            # here we explicitly assume that n_qubits = 0/1\n",
    "\n",
    "    H_expectation /= shots\n",
    "    return np.real(H_expectation)"
   ]
  },
  {
   "cell_type": "code",
   "execution_count": 20,
   "metadata": {},
   "outputs": [
    {
     "data": {
      "text/plain": [
       " message: Optimization terminated successfully.\n",
       " success: True\n",
       "  status: 1\n",
       "     fun: -1.0\n",
       "       x: [ 2.972e+00  1.802e+00  2.258e+00  4.817e+00]\n",
       "    nfev: 40\n",
       "   maxcv: 0.0"
      ]
     },
     "execution_count": 20,
     "metadata": {},
     "output_type": "execute_result"
    }
   ],
   "source": [
    "# Choose the number of steps, p, and initiate the gamma's and beta's accordingly\n",
    "\n",
    "p = 2\n",
    "n_qubits = 2\n",
    "beta = np.random.uniform(0, 2*np.pi, p)\n",
    "gamma = np.random.uniform(0, 2*np.pi, p)\n",
    "\n",
    "result = minimize(evaluate_quantum_cost_hamiltonian, np.concatenate([beta, gamma]), method='COBYLA')\n",
    "result"
   ]
  },
  {
   "cell_type": "code",
   "execution_count": 25,
   "metadata": {},
   "outputs": [
    {
     "name": "stdout",
     "output_type": "stream",
     "text": [
      "        ┌───┐                         ┌─────────────┐                         »\n",
      "q457_0: ┤ H ├──■───────────────────■──┤ Rx(-5.9446) ├──■───────────────────■──»\n",
      "        ├───┤┌─┴─┐┌─────────────┐┌─┴─┐├─────────────┤┌─┴─┐┌─────────────┐┌─┴─┐»\n",
      "q457_1: ┤ H ├┤ X ├┤ Rz(-4.5152) ├┤ X ├┤ Rx(-5.9446) ├┤ X ├┤ Rz(-9.6339) ├┤ X ├»\n",
      "        └───┘└───┘└─────────────┘└───┘└─────────────┘└───┘└─────────────┘└───┘»\n",
      " c41: 2/══════════════════════════════════════════════════════════════════════»\n",
      "                                                                              »\n",
      "«        ┌─────────────┐┌─┐   \n",
      "«q457_0: ┤ Rx(-3.6037) ├┤M├───\n",
      "«        ├─────────────┤└╥┘┌─┐\n",
      "«q457_1: ┤ Rx(-3.6037) ├─╫─┤M├\n",
      "«        └─────────────┘ ║ └╥┘\n",
      "« c41: 2/════════════════╩══╩═\n",
      "«                        0  1 \n"
     ]
    }
   ],
   "source": [
    "q = QuantumRegister(2)\n",
    "c = ClassicalRegister(2)\n",
    "circuit = QuantumCircuit(q, c)\n",
    "\n",
    "# extract the optimal β's and γ's from the result.x attribute\n",
    "\n",
    "beta  = result.x[:p]\n",
    "gamma = result.x[p:]\n",
    "\n",
    "#Create the initial state Ψ0  \n",
    "n_qubits = 2\n",
    "circuit = QuantumCircuit(q, c)\n",
    "for i in range(n_qubits):\n",
    "    circuit.h(q[i])    \n",
    "\n",
    "#apply the evolution unitaries\n",
    "\n",
    "for i in range(p):\n",
    "    # apply gamma's\n",
    "    circuit.cx(q[0],q[1])\n",
    "    circuit.rz(-2*gamma[i],q[1])\n",
    "    circuit.cx(q[0],q[1])\n",
    "    # apply beta's\n",
    "    circuit.rx(-2*beta[i], q[0])\n",
    "    circuit.rx(-2*beta[i], q[1])\n",
    "circuit.measure(q, c)\n",
    "print(circuit)"
   ]
  },
  {
   "cell_type": "code",
   "execution_count": 27,
   "metadata": {},
   "outputs": [],
   "source": [
    "shots = 1000\n",
    "job = execute(circuit, backend, shots=shots)"
   ]
  },
  {
   "cell_type": "code",
   "execution_count": 28,
   "metadata": {},
   "outputs": [
    {
     "data": {
      "image/png": "[encoded data removed]",
      "text/plain": [
       "<Figure size 504x360 with 1 Axes>"
      ]
     },
     "execution_count": 28,
     "metadata": {},
     "output_type": "execute_result"
    }
   ],
   "source": [
    "\n",
    "result = job.result().get_counts()\n",
    "plot_histogram(job.result().get_counts(circuit))"
   ]
  },
  {
   "attachments": {},
   "cell_type": "markdown",
   "metadata": {},
   "source": [
    "Within reasonable accuracy the result is the same as achived by the analytic method"
   ]
  },
  {
   "attachments": {},
   "cell_type": "markdown",
   "metadata": {},
   "source": [
    "## Bibliography \n",
    "\n",
    "$[1] \\hspace{1cm} \\textit{Adiabatic Quantum Simulation using Trotterization}$, Yifan Sun et al, https://arxiv.org/pdf/1805.11568.pdf\n",
    "\n",
    "$[2] \\hspace{1cm} \\textit{Adiabatic Quantum Computation and Quantum Annealing}$, Catherine C. McGeoch, MC Publishers 2014\n",
    "\n",
    "$[3] \\hspace{1cm}\\textit{Supervised Learning with Quantum Computers}$, Maria Schuld & Francesco Petruccione, Springer 2018\n",
    "\n",
    "$[4] \\hspace{1cm}\\textit{Quantum Computing: An Applied Approach}$, Jack D. Hidary, Springer 2019\n",
    "\n",
    "$[5] \\hspace{1cm}\\textit{Quantum Computation by Adiabatic Evolution}$, Edward Farhi & Jeffrey Goldstone, https://arxiv.org/abs/quant-ph/0001106\n",
    "\n",
    "$[6] \\hspace{1cm}\\textit{Analysis of Quantum Approximate Optimization Algorithm under Realistic Noise in Superconducting Qubits}$, Mahabubul Alam, https://arxiv.org/pdf/1907.09631.pdf\n",
    "\n",
    "$[7] \\hspace{1cm}\\textit{A Quantum Algorithm To Train Neural Networks Using Low-depth Circuits}$, Guillaume Verdon et al. https://arxiv.org/abs/1712.05304"
   ]
  }
 ],
 "metadata": {
  "kernelspec": {
   "display_name": "Python 3",
   "language": "python",
   "name": "python3"
  },
  "language_info": {
   "codemirror_mode": {
    "name": "ipython",
    "version": 3
   },
   "file_extension": ".py",
   "mimetype": "text/x-python",
   "name": "python",
   "nbconvert_exporter": "python",
   "pygments_lexer": "ipython3",
   "version": "3.10.2"
  }
 },
 "nbformat": 4,
 "nbformat_minor": 4
}
