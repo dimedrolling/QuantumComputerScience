{
 "cells": [
  {
   "attachments": {},
   "cell_type": "markdown",
   "metadata": {},
   "source": [
    "Current and near-term quantum computers suffer from imperfections, as we repeatedly pointed it out. This is why we cannot run long algorithms, that is, deep circuits on them. A new breed of algorithms started to appear since 2013 that focus on getting an advantage from imperfect quantum computers. The basic idea is extremely simple: run a short sequence of gates where some gates are parametrized. Then read out the result, make adjustments to the parameters on a classical computer, and repeat the calculation with the new parameters on the quantum hardware. This way we create an iterative loop between the quantum and the classical processing units, creating classical-quantum hybrid algorithms.\n",
    "\n",
    "<img src=\"../figures/hybrid_classical_quantum.svg\" alt=\"Hybrid classical-quantum paradigm\" style=\"width: 400px;\"/>\n",
    "\n",
    "These algorithms are also called variational to reflect the variational approach to changing the parameters. One of the most important examples of this approach is the quantum approximate optimization algorithm, which is the subject of this notebook."
   ]
  },
  {
   "attachments": {},
   "cell_type": "markdown",
   "metadata": {},
   "source": [
    "# Quantum approximate optimization algorithm\n",
    "\n",
    "The quantum approximate optimization algorithm (QAOA) is a shallow-circuit variational algorithm for gate-model quantum computers that was inspired by quantum annealing. We discretize the adiabatic pathway in some $p$ steps, where $p$ influences precision. Each discrete time step $i$ has two parameters, $\\beta_i, \\gamma_i$. The classical variational algorithms does an optimization over these parameters based on the observed energy at the end of a run on the quantum hardware.\n",
    "\n",
    "More formally, we want to discretize the time-dependent $H(t)=(1-t)H_0 + tH_1$ under adiabatic conditions. We achieve this by Trotterizing the unitary. For instance, for time step $t_0$, we can split this unitary as $U(t_0) = U(H_0, \\beta_0)U(H_1, \\gamma_0)$. We can continue doing this for subsequent time steps, eventually splitting up the evolution to $p$ such chunks:\n",
    "\n",
    "$$\n",
    "U = U(H_0, \\beta_0)U(H_1, \\gamma_0)\\ldots U(H_0, \\beta_p)U(H_1, \\gamma_p).\n",
    "$$\n",
    "\n",
    "At the end of optimizing the parameters, this discretized evolution will approximate the adiabatic pathway:\n",
    "\n",
    "<img src=\"../figures/qaoa_process.svg\" alt=\"Quantum approximate optimization algorithm\" style=\"width: 400px;\"/>\n",
    "\n",
    "The Hamiltonian $H_0$ is often referred to as the driving or mixing Hamiltonian, and $H_1$ as the cost Hamiltonian. The simplest mixing Hamiltonian is $H_0 = -\\sum_i \\sigma^X_i$, the same as the initial Hamiltonian in quantum annealing. By alternating between the two Hamiltonians, the mixing Hamiltonian drives the state towards an equal superposition, whereas the cost Hamiltonian tries to seek its own ground state.\n",
    "\n",
    "Let us import the necessary packages first:"
   ]
  },
  {
   "cell_type": "code",
   "execution_count": 71,
   "metadata": {
    "ExecuteTime": {
     "end_time": "2018-11-19T20:09:25.405530Z",
     "start_time": "2018-11-19T20:09:25.393410Z"
    }
   },
   "outputs": [],
   "source": [
    "import itertools\n",
    "import numpy as np\n",
    "from qiskit import Aer, execute\n",
    "from qiskit.quantum_info import Pauli\n",
    "from qiskit.opflow import *\n",
    "from scipy.optimize import minimize\n",
    "import qiskit.quantum_info as qi\n",
    "np.set_printoptions(precision=3, suppress=True)"
   ]
  },
  {
   "attachments": {},
   "cell_type": "markdown",
   "metadata": {},
   "source": [
    "Now we can define our mixing Hamiltonian on some qubits. As in the notebook on classical and quantum many-body physics, we had to define, for instance, an `IZ` operator to express $\\mathbb{I}\\otimes\\sigma_1^Z$, that is, the $\\sigma_1^Z$ operator acting only on qubit 1. We can achieve the same effect the following way (this time using the Pauli-X operator):"
   ]
  },
  {
   "attachments": {},
   "cell_type": "markdown",
   "metadata": {},
   "source": [
    "In Qiskit, Pauli matrices can be instantiated using the class `Pauli`. This class takes two parameters, the first for $\\sigma^Z$ and the second for $\\sigma^X$. Each parameter is a binary vector of dimension `n_qubits`, such that the component $i$ is 1 if you want a Pauli matrix to apply on the $i^{th}$ qubit and 0 otherwise. For instance, $\\sigma_1^Z \\otimes \\sigma_3^Z \\otimes \\sigma_1^X$ would be implemented using `Pauli([1,0,1], [1,0,0])`.\n",
    "\n",
    "In order to build Hamiltonians from Pauli matrices and make them evolve (i.e. exponentiate them, as required in QAOA), we will use the operator flow functionality in Qiskit Aqua. The class `PauliOp` can be used to construct Hamiltonians from Pauli matrices. It takes a `Pauli` object and a coefficient and represents the operator `coefficient * Pauli`. Operators represented by `PauliOp` objects can be simply added together with `+` to represent weighted sums of Pauli matrices. For instance, $3 \\sigma^Z_1 + 2 \\sigma^X_3$ would be written `PauliOp(Pauli([1,0,0], [0,0,0]), 3) + PauliOp(Pauli([0,0,0], [0,0,1]), 2)`. The resulting object of this summation is an object of `SummedOp` type: the class `SummedOp` in Qiskit Aqua is used to represent sums of various operators. We can as well use the `SummedOp` class directly to construct the weighted sum of Pauli matrices instead of doing it via the `+` sign: `SummedOp([PauliOp(Pauli([1,0,0], [0,0,0]), 3), PauliOp(Pauli([0,0,0], [0,0,1]), 2)])`.\n",
    "\n",
    "To simplify the code, let's build a function `pauli_x` that simply takes a qubit and a coefficient and returns the corresponding Pauli-X operator as a `PauliOp`  "
   ]
  },
  {
   "cell_type": "code",
   "execution_count": 72,
   "metadata": {},
   "outputs": [],
   "source": [
    "def pauli_x(qubit_index, coeff, n_qubits):\n",
    "    eye = np.eye((n_qubits)) # the i^th row of the identity matrix is the correct parameter for \\sigma_i \n",
    "    return PauliOp(Pauli(np.zeros(n_qubits), eye[qubit_index]), coeff)"
   ]
  },
  {
   "attachments": {},
   "cell_type": "markdown",
   "metadata": {},
   "source": [
    "The coefficient here means the strength of the transverse field at the given qubit. This operator will act trivially on all qubits, except the given one. Let's define the mixing Hamiltonian over two qubits:"
   ]
  },
  {
   "cell_type": "code",
   "execution_count": 73,
   "metadata": {
    "ExecuteTime": {
     "end_time": "2018-11-19T20:08:17.863004Z",
     "start_time": "2018-11-19T20:08:17.843293Z"
    }
   },
   "outputs": [
    {
     "name": "stderr",
     "output_type": "stream",
     "text": [
      "C:\\Users\\dimav\\AppData\\Local\\Temp\\ipykernel_2588\\1770447550.py:3: DeprecationWarning: Passing 'z' and 'x' arrays separately to 'Pauli' is deprecated as of Qiskit Terra 0.17 and will be removed in version 0.23 or later. Use a tuple instead, such as 'Pauli((z, x[, phase]))'.\n",
      "  return PauliOp(Pauli(np.zeros(n_qubits), eye[qubit_index]), coeff)\n",
      "C:\\Users\\dimav\\AppData\\Local\\Temp\\ipykernel_2588\\1770447550.py:3: DeprecationWarning: The class ``qiskit.opflow.primitive_ops.pauli_op.PauliOp`` is deprecated as of qiskit-terra 0.24.0. It will be removed no earlier than 3 months after the release date. For code migration guidelines, visit https://qisk.it/opflow_migration.\n",
      "  return PauliOp(Pauli(np.zeros(n_qubits), eye[qubit_index]), coeff)\n",
      "C:\\Users\\dimav\\AppData\\Local\\Temp\\ipykernel_2588\\344063996.py:2: DeprecationWarning: The class ``qiskit.opflow.list_ops.summed_op.SummedOp`` is deprecated as of qiskit-terra 0.24.0. It will be removed no earlier than 3 months after the release date. For code migration guidelines, visit https://qisk.it/opflow_migration.\n",
      "  Hm = SummedOp([pauli_x(i, -1, n_qubits) for i in range(n_qubits)])\n"
     ]
    }
   ],
   "source": [
    "n_qubits = 2\n",
    "Hm = SummedOp([pauli_x(i, -1, n_qubits) for i in range(n_qubits)])"
   ]
  },
  {
   "cell_type": "code",
   "execution_count": 74,
   "metadata": {},
   "outputs": [
    {
     "data": {
      "text/plain": [
       "SummedOp([PauliOp(Pauli('IX'), coeff=-1), PauliOp(Pauli('XI'), coeff=-1)], coeff=1.0, abelian=False)"
      ]
     },
     "execution_count": 74,
     "metadata": {},
     "output_type": "execute_result"
    }
   ],
   "source": [
    "Hm"
   ]
  },
  {
   "attachments": {},
   "cell_type": "markdown",
   "metadata": {},
   "source": [
    "As an example, we will minimize the Ising problem defined by the cost Hamiltonian $H_c=-\\sigma^Z_1 \\otimes \\sigma^Z_2$. First let's create the functions defining the operators using the Pauli-Z matrix:"
   ]
  },
  {
   "cell_type": "code",
   "execution_count": 75,
   "metadata": {},
   "outputs": [],
   "source": [
    "def pauli_z(qubit_index, coeff, n_qubits):\n",
    "    eye = np.eye((n_qubits))\n",
    "    return PauliOp(Pauli(eye[qubit_index], np.zeros(n_qubits)), coeff)\n",
    "\n",
    "\n",
    "def product_pauli_z(q1, q2, coeff, n_qubits):\n",
    "    eye = np.eye((n_qubits))\n",
    "    return PauliOp(Pauli(eye[q1], np.zeros(n_qubits)).dot( Pauli(eye[q2], np.zeros(n_qubits))), coeff)"
   ]
  },
  {
   "cell_type": "code",
   "execution_count": 109,
   "metadata": {
    "ExecuteTime": {
     "end_time": "2018-11-19T20:08:17.885938Z",
     "start_time": "2018-11-19T20:08:17.865184Z"
    }
   },
   "outputs": [
    {
     "name": "stderr",
     "output_type": "stream",
     "text": [
      "C:\\Users\\dimav\\AppData\\Local\\Temp\\ipykernel_2588\\3282694860.py:8: DeprecationWarning: Passing 'z' and 'x' arrays separately to 'Pauli' is deprecated as of Qiskit Terra 0.17 and will be removed in version 0.23 or later. Use a tuple instead, such as 'Pauli((z, x[, phase]))'.\n",
      "  return PauliOp(Pauli(eye[q1], np.zeros(n_qubits)).dot( Pauli(eye[q2], np.zeros(n_qubits))), coeff)\n",
      "C:\\Users\\dimav\\AppData\\Local\\Temp\\ipykernel_2588\\3282694860.py:8: DeprecationWarning: The class ``qiskit.opflow.primitive_ops.pauli_op.PauliOp`` is deprecated as of qiskit-terra 0.24.0. It will be removed no earlier than 3 months after the release date. For code migration guidelines, visit https://qisk.it/opflow_migration.\n",
      "  return PauliOp(Pauli(eye[q1], np.zeros(n_qubits)).dot( Pauli(eye[q2], np.zeros(n_qubits))), coeff)\n",
      "C:\\Users\\dimav\\AppData\\Local\\Temp\\ipykernel_2588\\2359989515.py:6: DeprecationWarning: The class ``qiskit.opflow.list_ops.summed_op.SummedOp`` is deprecated as of qiskit-terra 0.24.0. It will be removed no earlier than 3 months after the release date. For code migration guidelines, visit https://qisk.it/opflow_migration.\n",
      "  Hc = SummedOp([product_pauli_z(i, j, -J[i][j], n_qubits)\n"
     ]
    },
    {
     "data": {
      "text/plain": [
       "SummedOp([PauliOp(Pauli('II'), coeff=0), PauliOp(Pauli('ZZ'), coeff=-1), PauliOp(Pauli('ZZ'), coeff=0), PauliOp(Pauli('II'), coeff=0)], coeff=1.0, abelian=False)"
      ]
     },
     "execution_count": 109,
     "metadata": {},
     "output_type": "execute_result"
    }
   ],
   "source": [
    "J = np.array([[0,1],[0,0]])\n",
    "\n",
    "# for i,j in itertools.product(range(n_qubits),repeat=2):\n",
    "#     print(i,j)\n",
    "#     print(product_pauli_z(i,j,-1,n_qubits))\n",
    "Hc = SummedOp([product_pauli_z(i, j, -J[i][j], n_qubits) \n",
    "                  for i,j in itertools.product(range(n_qubits), repeat=2)])\n",
    "Hc"
   ]
  },
  {
   "cell_type": "code",
   "execution_count": 110,
   "metadata": {},
   "outputs": [],
   "source": [
    "# Hc = SummedOp([product_pauli_z(1, 0, -1, n_qubits)],1)\n",
    "# Hc"
   ]
  },
  {
   "attachments": {},
   "cell_type": "markdown",
   "metadata": {},
   "source": [
    "We set the number of time evolution steps $p=1$ and initialize the $\\beta_i$ and $\\gamma_i$ parameters:"
   ]
  },
  {
   "cell_type": "code",
   "execution_count": 111,
   "metadata": {
    "ExecuteTime": {
     "end_time": "2018-11-19T20:08:17.925805Z",
     "start_time": "2018-11-19T20:08:17.905037Z"
    }
   },
   "outputs": [],
   "source": [
    "p = 1\n",
    "beta = np.random.uniform(0, np.pi*2, p)\n",
    "gamma = np.random.uniform(0, np.pi*2, p)"
   ]
  },
  {
   "attachments": {},
   "cell_type": "markdown",
   "metadata": {},
   "source": [
    "The initial state is a uniform superposition of all the states $|q_1,...,q_n\\rangle$"
   ]
  },
  {
   "attachments": {},
   "cell_type": "markdown",
   "metadata": {},
   "source": [
    "To declare the initial state, we use the Qiskit Aqua class `Custom`. It takes two arguments: the number of qubits of the state we want to prepare, and the vector containing the amplitudes."
   ]
  },
  {
   "cell_type": "code",
   "execution_count": 112,
   "metadata": {},
   "outputs": [
    {
     "name": "stderr",
     "output_type": "stream",
     "text": [
      "C:\\Users\\dimav\\AppData\\Local\\Temp\\ipykernel_2588\\2217352131.py:2: DeprecationWarning: The class ``qiskit.opflow.state_fns.vector_state_fn.VectorStateFn`` is deprecated as of qiskit-terra 0.24.0. It will be removed no earlier than 3 months after the release date. For code migration guidelines, visit https://qisk.it/opflow_migration.\n",
      "  init_state = VectorStateFn(init_state_vect, coeff=1/np.sqrt(2 ** n_qubits))\n"
     ]
    },
    {
     "data": {
      "text/plain": [
       "VectorStateFn(Statevector([1.+0.j, 1.+0.j, 1.+0.j, 1.+0.j],\n",
       "            dims=(2, 2)), coeff=0.5, is_measurement=False)"
      ]
     },
     "execution_count": 112,
     "metadata": {},
     "output_type": "execute_result"
    }
   ],
   "source": [
    "init_state_vect = [1 for i in range(2 ** n_qubits)]\n",
    "init_state = VectorStateFn(init_state_vect, coeff=1/np.sqrt(2 ** n_qubits))\n",
    "init_state"
   ]
  },
  {
   "attachments": {},
   "cell_type": "markdown",
   "metadata": {},
   "source": [
    "Now, we define a function `evolve` that takes a Hamiltonian $H$ and an angle $t$ and returns an operator representing the unitary matrix $e^{-i H t}$. "
   ]
  },
  {
   "attachments": {},
   "cell_type": "markdown",
   "metadata": {},
   "source": [
    "For that, we use the method `exp_i()` of the operator classes in Qiskit Aqua. Note that this function does not accept any arguments, particularly it does not accept evolution angle, it just exponentiates `-i` times whatever it is called on, so before the call to this function we multiply the operator with the necessary angle"
   ]
  },
  {
   "cell_type": "code",
   "execution_count": 113,
   "metadata": {
    "ExecuteTime": {
     "end_time": "2018-11-19T20:08:18.075525Z",
     "start_time": "2018-11-19T20:08:18.059933Z"
    }
   },
   "outputs": [],
   "source": [
    "def evolve(hamiltonian, angle):\n",
    "    return (angle * hamiltonian).exp_i()"
   ]
  },
  {
   "attachments": {},
   "cell_type": "markdown",
   "metadata": {},
   "source": [
    "To create the entire sequence of operators for our QAOA circuit, we need to compose the different unitary matrices given by `evolve`, then compose the result with the initial state. In Qiskit Aqua operator composition basically constructs the sequence in which the operators need to act on the initial state. For instance, if we want to act the operator `A` on `init_state` then act the operator `B`, then this can be writter as `B @ A @ init_state`, or by using the `ComposedOp` facility directly `ComposedOp([B, A, init_state])`. "
   ]
  },
  {
   "cell_type": "code",
   "execution_count": 114,
   "metadata": {
    "ExecuteTime": {
     "end_time": "2018-11-19T20:08:18.091375Z",
     "start_time": "2018-11-19T20:08:18.077164Z"
    }
   },
   "outputs": [],
   "source": [
    "def create_circuit(beta, gamma):\n",
    "    return ComposedOp([evolve(Hm, beta[i]) @ evolve(Hc, gamma[i]) for i in range(p)] + [init_state])"
   ]
  },
  {
   "attachments": {},
   "cell_type": "markdown",
   "metadata": {},
   "source": [
    "We now create a function `evaluate_hamiltonian` that takes a single vector `gamma_beta` (the concatenation of `gamma` and `beta`) and a `hamiltonian` and returns $\\langle H_c \\rangle = \\langle \\psi | H_c | \\psi \\rangle$ where $\\psi$ is defined by the circuit created with the function above."
   ]
  },
  {
   "attachments": {},
   "cell_type": "markdown",
   "metadata": {},
   "source": [
    "We use the class `OperatorStateFn` to construct the measurement operator for the corresponding hamiltonian, and the class `PauliExpectation` to represent the entire circuit for QAOA along with the measurement operator in order to compute $\\langle \\psi | H_c | \\psi\\rangle$."
   ]
  },
  {
   "cell_type": "code",
   "execution_count": 115,
   "metadata": {
    "ExecuteTime": {
     "end_time": "2018-11-19T20:08:18.117855Z",
     "start_time": "2018-11-19T20:08:18.093293Z"
    }
   },
   "outputs": [],
   "source": [
    "def evaluate_hamiltonian(beta_gamma, hamiltonian):\n",
    "    n = len(beta_gamma)//2\n",
    "    circuit = create_circuit(beta_gamma[:n], beta_gamma[n:])\n",
    "    meas = OperatorStateFn(hamiltonian, is_measurement=True)\n",
    "    circuit_meas = PauliTrotterEvolution(trotter_mode=Suzuki(order=3, reps=1)).convert(meas @ circuit)\n",
    "    circuit_expectation = PauliExpectation().convert(circuit_meas)\n",
    "    \n",
    "    sampler = CircuitSampler(backend=Aer.get_backend('statevector_simulator'))\n",
    "    sampled_trotter_exp_op = sampler.convert(circuit_expectation)\n",
    "    return sampled_trotter_exp_op.eval().real"
   ]
  },
  {
   "attachments": {},
   "cell_type": "markdown",
   "metadata": {},
   "source": [
    "Finally, we optimize the angles to minimize the expectation value of the cost hamiltonian `Hc`:"
   ]
  },
  {
   "cell_type": "code",
   "execution_count": 116,
   "metadata": {},
   "outputs": [
    {
     "name": "stderr",
     "output_type": "stream",
     "text": [
      "C:\\Users\\dimav\\AppData\\Local\\Temp\\ipykernel_2588\\3920132305.py:5: DeprecationWarning: The class ``qiskit.opflow.state_fns.vector_state_fn.VectorStateFn`` is deprecated as of qiskit-terra 0.24.0. It will be removed no earlier than 3 months after the release date. For code migration guidelines, visit https://qisk.it/opflow_migration.\n",
      "  init_state = VectorStateFn(init_state_vect, coeff=1/np.sqrt(2 ** n_qubits))\n"
     ]
    },
    {
     "data": {
      "text/plain": [
       "VectorStateFn(Statevector([1.+0.j, 1.+0.j, 1.+0.j, 1.+0.j],\n",
       "            dims=(2, 2)), coeff=0.5, is_measurement=False)"
      ]
     },
     "execution_count": 116,
     "metadata": {},
     "output_type": "execute_result"
    }
   ],
   "source": [
    "p = 2\n",
    "beta = np.random.uniform(0, np.pi*2, p)\n",
    "gamma = np.random.uniform(0, np.pi*2, p)\n",
    "init_state_vect = [1 for i in range(2 ** n_qubits)]\n",
    "init_state = VectorStateFn(init_state_vect, coeff=1/np.sqrt(2 ** n_qubits))\n",
    "init_state"
   ]
  },
  {
   "cell_type": "code",
   "execution_count": 117,
   "metadata": {
    "ExecuteTime": {
     "end_time": "2018-11-19T20:08:37.699288Z",
     "start_time": "2018-11-19T20:08:18.119570Z"
    }
   },
   "outputs": [
    {
     "name": "stderr",
     "output_type": "stream",
     "text": [
      "C:\\Users\\dimav\\AppData\\Local\\Temp\\ipykernel_2588\\3881335994.py:2: DeprecationWarning: The class ``qiskit.opflow.list_ops.composed_op.ComposedOp`` is deprecated as of qiskit-terra 0.24.0. It will be removed no earlier than 3 months after the release date. For code migration guidelines, visit https://qisk.it/opflow_migration.\n",
      "  return ComposedOp([evolve(Hm, beta[i]) @ evolve(Hc, gamma[i]) for i in range(p)] + [init_state])\n",
      "C:\\Users\\dimav\\AppData\\Local\\Temp\\ipykernel_2588\\4120909650.py:4: DeprecationWarning: The class ``qiskit.opflow.state_fns.operator_state_fn.OperatorStateFn`` is deprecated as of qiskit-terra 0.24.0. It will be removed no earlier than 3 months after the release date. For code migration guidelines, visit https://qisk.it/opflow_migration.\n",
      "  meas = OperatorStateFn(hamiltonian, is_measurement=True)\n",
      "C:\\Users\\dimav\\AppData\\Local\\Temp\\ipykernel_2588\\4120909650.py:5: DeprecationWarning: The class ``qiskit.opflow.evolutions.trotterizations.suzuki.Suzuki`` is deprecated as of qiskit-terra 0.24.0. It will be removed no earlier than 3 months after the release date. For code migration guidelines, visit https://qisk.it/opflow_migration.\n",
      "  circuit_meas = PauliTrotterEvolution(trotter_mode=Suzuki(order=3, reps=1)).convert(meas @ circuit)\n",
      "C:\\Users\\dimav\\AppData\\Local\\Temp\\ipykernel_2588\\4120909650.py:5: DeprecationWarning: The class ``qiskit.opflow.evolutions.pauli_trotter_evolution.PauliTrotterEvolution`` is deprecated as of qiskit-terra 0.24.0. It will be removed no earlier than 3 months after the release date. For code migration guidelines, visit https://qisk.it/opflow_migration.\n",
      "  circuit_meas = PauliTrotterEvolution(trotter_mode=Suzuki(order=3, reps=1)).convert(meas @ circuit)\n",
      "C:\\Users\\dimav\\AppData\\Local\\Temp\\ipykernel_2588\\4120909650.py:6: DeprecationWarning: The class ``qiskit.opflow.expectations.pauli_expectation.PauliExpectation`` is deprecated as of qiskit-terra 0.24.0. It will be removed no earlier than 3 months after the release date. For code migration guidelines, visit https://qisk.it/opflow_migration.\n",
      "  circuit_expectation = PauliExpectation().convert(circuit_meas)\n",
      "C:\\Users\\dimav\\AppData\\Local\\Temp\\ipykernel_2588\\4120909650.py:8: DeprecationWarning: The class ``qiskit.opflow.converters.circuit_sampler.CircuitSampler`` is deprecated as of qiskit-terra 0.24.0. It will be removed no earlier than 3 months after the release date. For code migration guidelines, visit https://qisk.it/opflow_migration.\n",
      "  sampler = CircuitSampler(backend=Aer.get_backend('statevector_simulator'))\n"
     ]
    },
    {
     "data": {
      "text/plain": [
       "  message: CONVERGENCE: NORM_OF_PROJECTED_GRADIENT_<=_PGTOL\n",
       "  success: True\n",
       "   status: 0\n",
       "      fun: -0.8732972972139916\n",
       "        x: [ 5.105e+00  3.142e+00  4.419e+00  1.724e+00]\n",
       "      nit: 7\n",
       "      jac: [-4.219e-07 -3.997e-07  0.000e+00  0.000e+00]\n",
       "     nfev: 50\n",
       "     njev: 10\n",
       " hess_inv: <4x4 LbfgsInvHessProduct with dtype=float64>"
      ]
     },
     "execution_count": 117,
     "metadata": {},
     "output_type": "execute_result"
    }
   ],
   "source": [
    "result = minimize(evaluate_hamiltonian, np.concatenate([beta, gamma]), (Hc), method='L-BFGS-B')\n",
    "result"
   ]
  },
  {
   "attachments": {},
   "cell_type": "markdown",
   "metadata": {},
   "source": [
    "# Analysis of the results\n",
    "\n",
    "We create a quantum circuit using the optimal parameters found."
   ]
  },
  {
   "cell_type": "code",
   "execution_count": 118,
   "metadata": {
    "ExecuteTime": {
     "end_time": "2018-11-19T20:08:37.795769Z",
     "start_time": "2018-11-19T20:08:37.701647Z"
    }
   },
   "outputs": [
    {
     "name": "stdout",
     "output_type": "stream",
     "text": [
      "global phase: 2.5466\n",
      "     ┌─────────────────────────────────────┐ ┌────────────────┐      »\n",
      "q_0: ┤0                                    ├─┤ U(0,3π/4,3π/4) ├───■──»\n",
      "     │  State Preparation(0.5,0.5,0.5,0.5) │┌┴────────────────┴┐┌─┴─┐»\n",
      "q_1: ┤1                                    ├┤ U(1.0172,π/2,-π) ├┤ X ├»\n",
      "     └─────────────────────────────────────┘└──────────────────┘└───┘»\n",
      "«         ┌───────────────┐          ┌────────────────────────┐»\n",
      "«q_0: ────┤ U(π,π/4,-π/4) ├───────■──┤ U(π,-0.10359,-0.10359) ├»\n",
      "«     ┌───┴───────────────┴────┐┌─┴─┐└──┬─────────────────┬───┘»\n",
      "«q_1: ┤ U(1.55,-1.8303,1.4115) ├┤ X ├───┤ U(2.588,-π,π/2) ├────»\n",
      "«     └────────────────────────┘└───┘   └─────────────────┘    »\n",
      "«     ┌────────────────────────┐  ┌────────────────┐      »\n",
      "«q_0: ┤ U(1.1211e-07,-π/2,π/2) ├──┤ U(0,3π/4,3π/4) ├───■──»\n",
      "«     ├────────────────────────┤┌─┴────────────────┴┐┌─┴─┐»\n",
      "«q_1: ┤ U(1.1211e-07,-π/2,π/2) ├┤ U(2.1244,-π/2,-π) ├┤ X ├»\n",
      "«     └────────────────────────┘└───────────────────┘└───┘»\n",
      "«          ┌───────────────┐          ┌──────────────────────┐»\n",
      "«q_0: ─────┤ U(π,π/4,-π/4) ├───────■──┤ U(π,-0.2685,-0.2685) ├»\n",
      "«     ┌────┴───────────────┴────┐┌─┴─┐└┬────────────────────┬┘»\n",
      "«q_1: ┤ U(1.4958,-2.063,1.2744) ├┤ X ├─┤ U(0.55357,-π,-π/2) ├─»\n",
      "«     └─────────────────────────┘└───┘ └────────────────────┘ »\n",
      "«     ┌──────────────────┐\n",
      "«q_0: ┤ U(3π/4,-π/2,π/2) ├\n",
      "«     ├──────────────────┤\n",
      "«q_1: ┤ U(3π/4,-π/2,π/2) ├\n",
      "«     └──────────────────┘\n"
     ]
    },
    {
     "name": "stderr",
     "output_type": "stream",
     "text": [
      "C:\\Users\\dimav\\AppData\\Local\\Temp\\ipykernel_2588\\3881335994.py:2: DeprecationWarning: The class ``qiskit.opflow.list_ops.composed_op.ComposedOp`` is deprecated as of qiskit-terra 0.24.0. It will be removed no earlier than 3 months after the release date. For code migration guidelines, visit https://qisk.it/opflow_migration.\n",
      "  return ComposedOp([evolve(Hm, beta[i]) @ evolve(Hc, gamma[i]) for i in range(p)] + [init_state])\n"
     ]
    }
   ],
   "source": [
    "circuit = create_circuit(result['x'][:p], result['x'][p:])\n",
    "circuit = circuit.to_circuit_op().primitive\n",
    "print(circuit)"
   ]
  },
  {
   "attachments": {},
   "cell_type": "markdown",
   "metadata": {},
   "source": [
    "We use the `statevector_simulator` backend in order to display the state created by the circuit."
   ]
  },
  {
   "cell_type": "code",
   "execution_count": 119,
   "metadata": {
    "ExecuteTime": {
     "end_time": "2018-11-19T20:08:38.175963Z",
     "start_time": "2018-11-19T20:08:37.797375Z"
    }
   },
   "outputs": [
    {
     "name": "stdout",
     "output_type": "stream",
     "text": [
      "[0.425 0.565 0.565 0.425]\n",
      "[-2.356 -2.356 -2.356 -2.356]\n"
     ]
    },
    {
     "data": {
      "text/latex": [
       "$$(-0.3006176684 - 0.3006177057 i) |00\\rangle+(-0.3995359358 - 0.3995360416 i) |01\\rangle+(-0.3995359358 - 0.3995360416 i) |10\\rangle+(-0.3006176684 - 0.3006177057 i) |11\\rangle$$"
      ],
      "text/plain": [
       "<IPython.core.display.Latex object>"
      ]
     },
     "execution_count": 119,
     "metadata": {},
     "output_type": "execute_result"
    }
   ],
   "source": [
    "backend = Aer.get_backend('statevector_simulator')\n",
    "job = execute(circuit, backend)\n",
    "state = np.asarray(job.result().get_statevector(circuit))\n",
    "print(np.absolute(state))\n",
    "print(np.angle(state))\n",
    "qi.Statevector.draw(qi.Statevector(state), output = 'latex')"
   ]
  },
  {
   "attachments": {},
   "cell_type": "markdown",
   "metadata": {},
   "source": [
    "We see that the state is approximately $\\frac{1}{\\sqrt{2}} \\left( |00 \\rangle + |11 \\rangle \\right)$. It corresponds to a uniform superposition of the two solutions of the classicial problem: $(\\sigma_1=1$, $\\sigma_2=1)$ and $(\\sigma_1=-1$, $\\sigma_2=-1)$"
   ]
  },
  {
   "attachments": {},
   "cell_type": "markdown",
   "metadata": {},
   "source": [
    "Let's now try to evaluate the operators $\\sigma^Z_1$ and $\\sigma^Z_2$ independently:"
   ]
  },
  {
   "cell_type": "code",
   "execution_count": 86,
   "metadata": {
    "ExecuteTime": {
     "end_time": "2018-11-19T20:08:38.181888Z",
     "start_time": "2018-11-19T20:08:38.178242Z"
    }
   },
   "outputs": [
    {
     "name": "stderr",
     "output_type": "stream",
     "text": [
      "C:\\Users\\dimav\\AppData\\Local\\Temp\\ipykernel_2588\\3282694860.py:3: DeprecationWarning: Passing 'z' and 'x' arrays separately to 'Pauli' is deprecated as of Qiskit Terra 0.17 and will be removed in version 0.23 or later. Use a tuple instead, such as 'Pauli((z, x[, phase]))'.\n",
      "  return PauliOp(Pauli(eye[qubit_index], np.zeros(n_qubits)), coeff)\n",
      "C:\\Users\\dimav\\AppData\\Local\\Temp\\ipykernel_2588\\3282694860.py:3: DeprecationWarning: The class ``qiskit.opflow.primitive_ops.pauli_op.PauliOp`` is deprecated as of qiskit-terra 0.24.0. It will be removed no earlier than 3 months after the release date. For code migration guidelines, visit https://qisk.it/opflow_migration.\n",
      "  return PauliOp(Pauli(eye[qubit_index], np.zeros(n_qubits)), coeff)\n"
     ]
    }
   ],
   "source": [
    "Z0 = pauli_z(0, 1, n_qubits)\n",
    "Z1 = pauli_z(1, 1, n_qubits)"
   ]
  },
  {
   "cell_type": "code",
   "execution_count": 87,
   "metadata": {
    "ExecuteTime": {
     "end_time": "2018-11-19T20:09:32.326007Z",
     "start_time": "2018-11-19T20:09:31.566128Z"
    }
   },
   "outputs": [
    {
     "name": "stderr",
     "output_type": "stream",
     "text": [
      "C:\\Users\\dimav\\AppData\\Local\\Temp\\ipykernel_2588\\3881335994.py:2: DeprecationWarning: The class ``qiskit.opflow.list_ops.composed_op.ComposedOp`` is deprecated as of qiskit-terra 0.24.0. It will be removed no earlier than 3 months after the release date. For code migration guidelines, visit https://qisk.it/opflow_migration.\n",
      "  return ComposedOp([evolve(Hm, beta[i]) @ evolve(Hc, gamma[i]) for i in range(p)] + [init_state])\n",
      "C:\\Users\\dimav\\AppData\\Local\\Temp\\ipykernel_2588\\4120909650.py:4: DeprecationWarning: The class ``qiskit.opflow.state_fns.operator_state_fn.OperatorStateFn`` is deprecated as of qiskit-terra 0.24.0. It will be removed no earlier than 3 months after the release date. For code migration guidelines, visit https://qisk.it/opflow_migration.\n",
      "  meas = OperatorStateFn(hamiltonian, is_measurement=True)\n",
      "C:\\Users\\dimav\\AppData\\Local\\Temp\\ipykernel_2588\\4120909650.py:5: DeprecationWarning: The class ``qiskit.opflow.evolutions.trotterizations.suzuki.Suzuki`` is deprecated as of qiskit-terra 0.24.0. It will be removed no earlier than 3 months after the release date. For code migration guidelines, visit https://qisk.it/opflow_migration.\n",
      "  circuit_meas = PauliTrotterEvolution(trotter_mode=Suzuki(order=3, reps=1)).convert(meas @ circuit)\n",
      "C:\\Users\\dimav\\AppData\\Local\\Temp\\ipykernel_2588\\4120909650.py:5: DeprecationWarning: The class ``qiskit.opflow.evolutions.pauli_trotter_evolution.PauliTrotterEvolution`` is deprecated as of qiskit-terra 0.24.0. It will be removed no earlier than 3 months after the release date. For code migration guidelines, visit https://qisk.it/opflow_migration.\n",
      "  circuit_meas = PauliTrotterEvolution(trotter_mode=Suzuki(order=3, reps=1)).convert(meas @ circuit)\n",
      "C:\\Users\\dimav\\AppData\\Local\\Temp\\ipykernel_2588\\4120909650.py:6: DeprecationWarning: The class ``qiskit.opflow.expectations.pauli_expectation.PauliExpectation`` is deprecated as of qiskit-terra 0.24.0. It will be removed no earlier than 3 months after the release date. For code migration guidelines, visit https://qisk.it/opflow_migration.\n",
      "  circuit_expectation = PauliExpectation().convert(circuit_meas)\n",
      "C:\\Users\\dimav\\AppData\\Local\\Temp\\ipykernel_2588\\4120909650.py:8: DeprecationWarning: The class ``qiskit.opflow.converters.circuit_sampler.CircuitSampler`` is deprecated as of qiskit-terra 0.24.0. It will be removed no earlier than 3 months after the release date. For code migration guidelines, visit https://qisk.it/opflow_migration.\n",
      "  sampler = CircuitSampler(backend=Aer.get_backend('statevector_simulator'))\n"
     ]
    },
    {
     "name": "stdout",
     "output_type": "stream",
     "text": [
      "-1.8e-17\n",
      "4e-18\n"
     ]
    }
   ],
   "source": [
    "print(evaluate_hamiltonian(np.concatenate([beta, gamma]), Z0))\n",
    "print(evaluate_hamiltonian(np.concatenate([beta, gamma]), Z1))"
   ]
  },
  {
   "attachments": {},
   "cell_type": "markdown",
   "metadata": {},
   "source": [
    "We see that both are approximatively equal to zero. It's expected given the state we found above and corresponds to a typical quantum behavior where $\\mathbb{E}[\\sigma^Z_1 \\sigma^Z_2] \\neq \\mathbb{E}[\\sigma^Z_1] \\mathbb{E}[\\sigma^Z_2]$"
   ]
  },
  {
   "cell_type": "code",
   "execution_count": null,
   "metadata": {},
   "outputs": [],
   "source": []
  }
 ],
 "metadata": {
  "kernelspec": {
   "display_name": "Python 3",
   "language": "python",
   "name": "python3"
  },
  "language_info": {
   "codemirror_mode": {
    "name": "ipython",
    "version": 3
   },
   "file_extension": ".py",
   "mimetype": "text/x-python",
   "name": "python",
   "nbconvert_exporter": "python",
   "pygments_lexer": "ipython3",
   "version": "3.10.2"
  }
 },
 "nbformat": 4,
 "nbformat_minor": 2
}
