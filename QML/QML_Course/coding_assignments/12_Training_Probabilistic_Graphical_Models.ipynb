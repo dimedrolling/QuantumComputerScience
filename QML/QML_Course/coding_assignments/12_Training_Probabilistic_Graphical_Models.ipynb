{
    "cells": [
        {
            "cell_type": "markdown",
            "metadata": {},
            "source": [
                "Before you begin, execute this cell to import numpy and packages from the D-Wave Ocean suite, and all necessary functions for the gate-model framework you are going to use, whether that is the Forest SDK or Qiskit. In the case of Forest SDK, it also starts the qvm and quilc servers."
            ]
        },
        {
            "cell_type": "code",
            "execution_count": 15,
            "metadata": {
                "collapsed": true
            },
            "outputs": [],
            "source": [
                "# %run -i \"assignment_helper.py\"\n",
                "from helper import *\n",
                "%matplotlib inline"
            ]
        },
        {
            "cell_type": "markdown",
            "metadata": {},
            "source": [
                "# Probabilistic graphical models\n",
                "\n",
                "Recall that probabilistic graphical models capture a compact representation of a joint probability distribution through conditionally independence: random variable $X$ is conditionally independent of $Y$ given $Z$ $(X\\perp Y|Z)$, if $P(X=x, Y=y|Z=z) = P(X=x|Z=z)P(Y=y|Z=z)$ for all $x\\in X,y\\in Y,z\\in Z$. A Markov network is a type of probabilistic graphical models that allows cycles in the graph and uses global normalization of probabilities (i.e. a partition function). The factorization of the joint probability distribution is given as a sum $P(X_1, \\ldots, X_N) = \\frac{1}{Z}\\exp(-\\sum_k E[C_k])$, where $C_k$ are are cliques of the graph, and $E[.]$ is an energy defined over the cliques.\n",
                "\n",
                "**Exercise 1** (2 points). Define a Markov random field of four binary random variables in `dimod`. Random variables $X_1$ and $X_3$ are conditionally independent given $X_2$. The random variable $X_4$ is independent of all the other variables. The coupling strength on all edges in the graph is -1. Apart from the coupling between nodes, we also consider an external field of strength 1 applied to all nodes. Store the resulting `BinaryQuadraticModel` in an object called `model`."
            ]
        },
        {
            "cell_type": "code",
            "execution_count": 16,
            "metadata": {},
            "outputs": [],
            "source": [
                "import matplotlib.pyplot as plt\n",
                "import numpy as np\n",
                "import dimod\n"
            ]
        },
        {
            "cell_type": "code",
            "execution_count": 17,
            "metadata": {},
            "outputs": [],
            "source": [
                "\n",
                "n_spins = 4\n",
                "h = {v: 1 for v in range(n_spins)}\n",
                "J = {(0, 1): -1,\n",
                "     (1, 2): -1}\n",
                "model = dimod.BinaryQuadraticModel(h, J, 0.0, dimod.BINARY)\n",
                "sampler = dimod.SimulatedAnnealingSampler()"
            ]
        },
        {
            "cell_type": "code",
            "execution_count": 18,
            "metadata": {
                "collapsed": true,
                "deletable": false,
                "editable": false,
                "nbgrader": {
                    "grade": true,
                    "grade_id": "exercise1",
                    "locked": true,
                    "points": "2",
                    "solution": false
                }
            },
            "outputs": [],
            "source": [
                "assert isinstance(model, dimod.binary_quadratic_model.BinaryQuadraticModel)\n",
                "assert model.vartype == dimod.BINARY\n",
                "assert len(model.variables) == 4\n",
                "assert [i for i in model.linear] == [0, 1, 2, 3]\n",
                "assert [i for i in model.linear.values()] == [1, 1, 1, 1]\n",
                "assert [i for i in model.quadratic] == [(0, 1), (1, 2)] or [i for i in model.quadratic] == [(1, 0), (2, 1)]\n",
                "assert [i for i in model.quadratic.values()] == [-1, -1]"
            ]
        },
        {
            "cell_type": "markdown",
            "metadata": {},
            "source": [
                "**Exercise 2** (2 points). Convert the `dimod` model to a `networkx` graph. Store it in an object called `G`. You can use the `add_nodes_from` and `add_edges_from` methods of the graph object and the `linear` and `quadratic` methods of the model object to construct the graph."
            ]
        },
        {
            "cell_type": "code",
            "execution_count": 24,
            "metadata": {
                "collapsed": true
            },
            "outputs": [],
            "source": [
                "import networkx as nx"
            ]
        },
        {
            "cell_type": "code",
            "execution_count": 29,
            "metadata": {},
            "outputs": [],
            "source": [
                "G = dimod.to_networkx_graph(model)"
            ]
        },
        {
            "cell_type": "code",
            "execution_count": 27,
            "metadata": {
                "collapsed": true,
                "deletable": false,
                "editable": false,
                "nbgrader": {
                    "grade": true,
                    "grade_id": "exercise2",
                    "locked": true,
                    "points": "2",
                    "solution": false
                }
            },
            "outputs": [],
            "source": [
                "assert list(G.nodes) == [0, 1, 2, 3]\n",
                "assert list(G.edges) == [(0,1), (1, 2)]"
            ]
        },
        {
            "cell_type": "markdown",
            "metadata": {},
            "source": [
                "Now you can easily plot the Markov network:"
            ]
        },
        {
            "cell_type": "code",
            "execution_count": 28,
            "metadata": {
                "collapsed": true
            },
            "outputs": [
                {
                    "data": {
                        "image/png": "[encoded data removed]",
                        "text/plain": [
                            "<Figure size 432x288 with 1 Axes>"
                        ]
                    },
                    "metadata": {},
                    "output_type": "display_data"
                }
            ],
            "source": [
                "nx.draw(G)"
            ]
        },
        {
            "cell_type": "markdown",
            "metadata": {},
            "source": [
                "**Exercise 3** (1 point). If we want to use quantum annealing to draw samples, we have to address the connectivity structure on the chip. Embed the graph on a single Chimera cell using `minorminer`."
            ]
        },
        {
            "cell_type": "code",
            "execution_count": 34,
            "metadata": {},
            "outputs": [],
            "source": [
                "import dwave_networkx  as dnx\n",
                "import minorminer"
            ]
        },
        {
            "cell_type": "code",
            "execution_count": 35,
            "metadata": {
                "collapsed": true
            },
            "outputs": [
                {
                    "data": {
                        "image/png": "[encoded data removed]",
                        "text/plain": [
                            "<Figure size 432x288 with 1 Axes>"
                        ]
                    },
                    "metadata": {},
                    "output_type": "display_data"
                }
            ],
            "source": [
                "connectivity_structure = dnx.chimera_graph(1, 1)\n",
                "dnx.draw_chimera(connectivity_structure)\n",
                "embedded_graph = minorminer.find_embedding(G.edges(), connectivity_structure.edges())"
            ]
        },
        {
            "cell_type": "code",
            "execution_count": 36,
            "metadata": {
                "collapsed": true,
                "deletable": false,
                "editable": false,
                "nbgrader": {
                    "grade": true,
                    "grade_id": "exercise3",
                    "locked": true,
                    "points": "1",
                    "solution": false
                }
            },
            "outputs": [],
            "source": [
                "assert isinstance(embedded_graph, dict)\n",
                "assert len(embedded_graph) == 3"
            ]
        },
        {
            "cell_type": "markdown",
            "metadata": {},
            "source": [
                "This is a very simple Markov network that does not need multiple physical qubits to represent a logical qubit. Note that the independent random variable $X_4$ does not appear in the embedding."
            ]
        },
        {
            "cell_type": "code",
            "execution_count": 37,
            "metadata": {
                "collapsed": true
            },
            "outputs": [
                {
                    "data": {
                        "image/png": "[encoded data removed]",
                        "text/plain": [
                            "<Figure size 432x288 with 1 Axes>"
                        ]
                    },
                    "metadata": {},
                    "output_type": "display_data"
                }
            ],
            "source": [
                "dnx.draw_chimera_embedding(connectivity_structure, embedded_graph)\n",
                "plt.show()"
            ]
        },
        {
            "cell_type": "markdown",
            "metadata": {},
            "source": [
                "**Exercise 4** (2 points). Estimate the partition function of this model at temperature $T=1$ from 100 samples. Store the value in a variable called `Z`."
            ]
        },
        {
            "cell_type": "code",
            "execution_count": 38,
            "metadata": {
                "ExecuteTime": {
                    "end_time": "2018-11-19T20:10:32.696067Z",
                    "start_time": "2018-11-19T20:10:30.687484Z"
                },
                "collapsed": true
            },
            "outputs": [],
            "source": [
                "T = 1\n",
                "Z = 0"
            ]
        },
        {
            "cell_type": "code",
            "execution_count": 40,
            "metadata": {},
            "outputs": [
                {
                    "data": {
                        "text/plain": [
                            "SampleSet(rec.array([([0, 0, 1, 0], 1., 11), ([0, 1, 0, 1], 2.,  5),\n",
                            "           ([0, 0, 0, 1], 1.,  6), ([1, 1, 0, 0], 1., 15),\n",
                            "           ([0, 0, 0, 0], 0., 18), ([1, 1, 0, 1], 2.,  3),\n",
                            "           ([1, 1, 1, 0], 1.,  9), ([1, 0, 0, 1], 2.,  3),\n",
                            "           ([0, 1, 0, 0], 1.,  7), ([1, 0, 0, 0], 1.,  4),\n",
                            "           ([0, 0, 1, 1], 2.,  3), ([1, 0, 1, 1], 3.,  2),\n",
                            "           ([0, 1, 1, 1], 2.,  2), ([0, 1, 1, 0], 1.,  8),\n",
                            "           ([1, 0, 1, 0], 2.,  2), ([1, 1, 1, 1], 2.,  2)],\n",
                            "          dtype=[('sample', 'i1', (4,)), ('energy', '<f8'), ('num_occurrences', '<i4')]), Variables([0, 1, 2, 3]), {}, 'BINARY')"
                        ]
                    },
                    "execution_count": 40,
                    "metadata": {},
                    "output_type": "execute_result"
                }
            ],
            "source": [
                "response = sampler.sample(model, beta_range=[1/T, 1/T], num_reads=100)\n",
                "response.aggregate()"
            ]
        },
        {
            "cell_type": "code",
            "execution_count": 43,
            "metadata": {
                "collapsed": true,
                "deletable": false,
                "editable": false,
                "nbgrader": {
                    "grade": true,
                    "grade_id": "exercise4",
                    "locked": true,
                    "points": "2",
                    "solution": false
                }
            },
            "outputs": [
                {
                    "name": "stdout",
                    "output_type": "stream",
                    "text": [
                        "Degeneracy {0.0: 1, 1.0: 7, 2.0: 7, 3.0: 1}\n"
                    ]
                },
                {
                    "data": {
                        "text/plain": [
                            "4.572290139224249"
                        ]
                    },
                    "execution_count": 43,
                    "metadata": {},
                    "output_type": "execute_result"
                }
            ],
            "source": [
                "g = {} # dictionary that associate to each energy E the degeneracy g[E]\n",
                "for solution in response.aggregate().data():\n",
                "    if solution.energy not in g.keys():\n",
                "        g[solution.energy] = 0\n",
                "    g[solution.energy] += 1\n",
                "print(\"Degeneracy\", g)\n",
                "probabilities = np.array([g[E] * np.exp(-E/T) for E in g.keys()])\n",
                "Z = probabilities.sum()\n",
                "Z"
            ]
        },
        {
            "cell_type": "code",
            "execution_count": 44,
            "metadata": {},
            "outputs": [
                {
                    "data": {
                        "text/plain": [
                            "4.572290139224249"
                        ]
                    },
                    "execution_count": 44,
                    "metadata": {},
                    "output_type": "execute_result"
                }
            ],
            "source": [
                "np.array([np.exp(-s.energy/T) for s in response.aggregate().data()]).sum()"
            ]
        },
        {
            "cell_type": "markdown",
            "metadata": {},
            "source": [
                "With these components in hand, you can start building a quantum-enhanced sampler for Markov networks."
            ]
        }
    ],
    "metadata": {
        "kernelspec": {
            "display_name": "Python 3 [3.6]",
            "language": "python",
            "name": "python3"
        },
        "language_info": {
            "codemirror_mode": {
                "name": "ipython",
                "version": 3
            },
            "file_extension": ".py",
            "mimetype": "text/x-python",
            "name": "python",
            "nbconvert_exporter": "python",
            "pygments_lexer": "ipython3",
            "version": "3.10.2"
        }
    },
    "nbformat": 4,
    "nbformat_minor": 2
}
