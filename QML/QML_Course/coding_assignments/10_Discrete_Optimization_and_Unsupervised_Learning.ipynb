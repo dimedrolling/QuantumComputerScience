{
    "cells": [
        {
            "cell_type": "markdown",
            "metadata": {},
            "source": [
                "Before you begin, execute this cell to import numpy and packages from the D-Wave Ocean suite, and all necessary functions for the gate-model framework you are going to use, whether that is the Forest SDK or Qiskit. In the case of Forest SDK, it also starts the qvm and quilc servers."
            ]
        },
        {
            "cell_type": "code",
            "execution_count": 2,
            "metadata": {
                "ExecuteTime": {
                    "end_time": "2019-02-01T20:28:41.436161Z",
                    "start_time": "2019-02-01T20:28:40.764021Z"
                },
                "collapsed": true
            },
            "outputs": [],
            "source": [
                "# %run -i \"assignment_helper.py\"\n",
                "from helper import *\n",
                "%matplotlib inline"
            ]
        },
        {
            "cell_type": "markdown",
            "metadata": {},
            "source": [
                "# Mapping clustering to discrete optimization\n",
                "\n",
                "We will have $\\{x_i\\}_{i=1}^N$ points lying in two distant regions:"
            ]
        },
        {
            "cell_type": "code",
            "execution_count": 6,
            "metadata": {
                "ExecuteTime": {
                    "end_time": "2019-02-01T20:48:40.643798Z",
                    "start_time": "2019-02-01T20:48:40.594636Z"
                },
                "collapsed": true
            },
            "outputs": [
                {
                    "data": {
                        "text/plain": [
                            "<matplotlib.collections.PathCollection at 0x2e2d4c03cd0>"
                        ]
                    },
                    "execution_count": 6,
                    "metadata": {},
                    "output_type": "execute_result"
                },
                {
                    "data": {
                        "image/png": "[encoded data removed]",
                        "text/plain": [
                            "<Figure size 432x288 with 2 Axes>"
                        ]
                    },
                    "metadata": {
                        "needs_background": "light"
                    },
                    "output_type": "display_data"
                }
            ],
            "source": [
                "import matplotlib.pyplot as plt\n",
                "np.set_printoptions(precision=3, suppress=True)\n",
                "np.random.seed(0)\n",
                "\n",
                "# Generating the data\n",
                "c1 = np.random.rand(2, 2)/5\n",
                "c2 = (-1.6, 1.5) + np.random.rand(2, 2)/5\n",
                "data = np.concatenate((c1, c2))\n",
                "plt.subplot(111, xticks=[], yticks=[])\n",
                "plt.axes()\n",
                "plt.scatter(data[:, 0], data[:, 1], color='navy')\n"
            ]
        },
        {
            "cell_type": "markdown",
            "metadata": {},
            "source": [
                "**Exercise 1** (3 points). The unsupervised task is identify this structure. The challenge is that if we have a high number of points compared to the number of qubits and their connections, we won't be able to solve the problem. So if we blindly follow the idea of mapping the problem to max-cut using the Eucledian distance and then solve it by some quantum optimization method, we would run out of qubit connections for this problem. We can, however, choose to be clever about how we calculate the distances classically. This is a common trick: since we are doing hybrid classical-quantum algorithms anyway, we might as well do the classical parts wisely.\n",
                "\n",
                "In this case, we might rely on some form of [exploratory data analysis](https://en.wikipedia.org/wiki/Exploratory_data_analysis) to get a sense of the distances in the dataset. This is an easy case, since we just plotted the two-dimensional data, and we see that the density within a blob is high. You can make the task easier by thresholding the distances. Use any distance function you wish (even the Euclidean distance will do) and set distances to zero that are below a threshold you calculate. The threshold should be such that all of the distances within a blob will be set to zero. Store the symmetrix distance matrix in a two-dimensional numpy array called `w`."
            ]
        },
        {
            "cell_type": "code",
            "execution_count": 7,
            "metadata": {
                "ExecuteTime": {
                    "end_time": "2019-02-01T20:27:38.349707Z",
                    "start_time": "2019-02-01T20:27:38.341177Z"
                },
                "collapsed": true
            },
            "outputs": [
                {
                    "data": {
                        "text/plain": [
                            "<matplotlib.image.AxesImage at 0x2e2d4cf5060>"
                        ]
                    },
                    "execution_count": 7,
                    "metadata": {},
                    "output_type": "execute_result"
                },
                {
                    "data": {
                        "image/png": "[encoded data removed]",
                        "text/plain": [
                            "<Figure size 288x288 with 1 Axes>"
                        ]
                    },
                    "metadata": {
                        "needs_background": "light"
                    },
                    "output_type": "display_data"
                }
            ],
            "source": [
                "import itertools\n",
                "\n",
                "n_instances = data.shape[0]\n",
                "\n",
                "w = np.zeros((n_instances, n_instances))\n",
                "\n",
                "for i, j in itertools.product(*[range(n_instances)]*2):\n",
                "    w[i, j] = np.linalg.norm(data[i]-data[j])\n",
                "    # print(i,j)\n",
                "w[ w < 0.3] = 0\n",
                "plt.matshow(w)"
            ]
        },
        {
            "cell_type": "code",
            "execution_count": 8,
            "metadata": {
                "ExecuteTime": {
                    "end_time": "2019-02-01T20:28:25.104088Z",
                    "start_time": "2019-02-01T20:28:25.099798Z"
                },
                "collapsed": true,
                "deletable": false,
                "editable": false,
                "nbgrader": {
                    "grade": true,
                    "grade_id": "exercise1",
                    "locked": true,
                    "points": "3",
                    "solution": false
                }
            },
            "outputs": [],
            "source": [
                "labels = np.array([0, 0, 1, 1])\n",
                "assert np.alltrue(w == w.T)\n",
                "assert np.alltrue(w >= 0)\n",
                "assert (w[labels==0][:, labels==0]==0).sum() == 4\n",
                "assert (w[labels==1][:, labels==1]==0).sum() == 4"
            ]
        },
        {
            "cell_type": "markdown",
            "metadata": {},
            "source": [
                "# Solving the max-cut problem by QAOA\n",
                "\n",
                "**Exercise 2** (2 points). From here, it is rather formulaic to create the max-cut as an Ising Hamiltonian and solve either by annealing or by some variational circuit like QAOA. Set up the QAOA problem in your chosen framework and an optimization function. Import all necessary functions you need. Call the object `qaoa`. We set the `p` parameter of the QAOA to 1."
            ]
        },
        {
            "cell_type": "code",
            "execution_count": 32,
            "metadata": {},
            "outputs": [],
            "source": [
                "import qiskit_algorithms\n",
                "from qiskit_algorithms.minimum_eigensolvers import QAOA\n",
                "from qiskit_algorithms.optimizers import COBYLA\n",
                "from qiskit_optimization.applications import Maxcut\n",
                "\n",
                "from qiskit_aer.primitives import Sampler as AerSampler\n",
                "\n",
                "from qiskit_algorithms.minimum_eigensolvers import  NumPyMinimumEigensolver"
            ]
        },
        {
            "cell_type": "code",
            "execution_count": 11,
            "metadata": {},
            "outputs": [
                {
                    "data": {
                        "text/plain": [
                            "'Problem name: Max-cut\\n\\nMaximize\\n  -4.404244807134012*x_0*x_2 - 4.467158887112036*x_0*x_3\\n  - 4.4662858711734605*x_1*x_2 - 4.529790840466258*x_1*x_3\\n  + 4.435701847123024*x_0 + 4.498038355819859*x_1 + 4.435265339153736*x_2\\n  + 4.498474863789147*x_3\\n\\nSubject to\\n  No constraints\\n\\n  Binary variables (4)\\n    x_0 x_1 x_2 x_3\\n'"
                        ]
                    },
                    "execution_count": 11,
                    "metadata": {},
                    "output_type": "execute_result"
                }
            ],
            "source": [
                "max_cut = Maxcut(w)\n",
                "qp  = max_cut.to_quadratic_program()\n",
                "qubitOp, offset = qp.to_ising()\n",
                "qp.prettyprint()"
            ]
        },
        {
            "cell_type": "code",
            "execution_count": 12,
            "metadata": {
                "ExecuteTime": {
                    "end_time": "2019-02-01T21:29:46.241563Z",
                    "start_time": "2019-02-01T21:29:46.224360Z"
                },
                "collapsed": true
            },
            "outputs": [],
            "source": [
                "p = 1"
            ]
        },
        {
            "cell_type": "code",
            "execution_count": 46,
            "metadata": {},
            "outputs": [
                {
                    "name": "stdout",
                    "output_type": "stream",
                    "text": [
                        "energy: -2.147265609817515\n",
                        "maxcut objective: -6.614135711288958\n",
                        "solution: [0 0 1 1]\n",
                        "solution objective: 0.0\n"
                    ]
                }
            ],
            "source": [
                "\n",
                "qaoa = QAOA(AerSampler(), COBYLA(), reps=p)\n",
                "result1  = qaoa.compute_minimum_eigenvalue(qubitOp)\n",
                "\n",
                "x = max_cut.sample_most_likely(result1.eigenstate)\n",
                "print('energy:', result1.eigenvalue)\n",
                "print('maxcut objective:', result1.eigenvalue + offset)\n",
                "print('solution:', x)\n",
                "print('solution objective:', qp.objective.evaluate(x))"
            ]
        },
        {
            "cell_type": "code",
            "execution_count": 47,
            "metadata": {},
            "outputs": [
                {
                    "name": "stdout",
                    "output_type": "stream",
                    "text": [
                        "energy: -4.466870101471442\n",
                        "max-cut objective: -8.933740202942884\n",
                        "solution: [1. 1. 0. 0.]\n",
                        "solution objective: 0.0\n"
                    ]
                }
            ],
            "source": [
                "ee = NumPyMinimumEigensolver()\n",
                "result2 = ee.compute_minimum_eigenvalue(qubitOp)\n",
                "\n",
                "x = max_cut.sample_most_likely(result2.eigenstate)\n",
                "print(\"energy:\", result2.eigenvalue.real)\n",
                "print(\"max-cut objective:\", result2.eigenvalue.real + offset)\n",
                "print(\"solution:\", x)\n",
                "print(\"solution objective:\", qp.objective.evaluate(x))"
            ]
        },
        {
            "cell_type": "markdown",
            "metadata": {},
            "source": [
                "Setting $p=1$ in the QAOA algorithm, we can initialize it with the max-cut problem."
            ]
        },
        {
            "cell_type": "code",
            "execution_count": 18,
            "metadata": {},
            "outputs": [
                {
                    "data": {
                        "text/html": [
                            "<pre style=\"word-wrap: normal;white-space: pre;background: #fff0;line-height: 1.1;font-family: &quot;Courier New&quot;,Courier,monospace\">        ┌───┐┌─────────────────────────────────────────────────┐»\n",
                            "   q_0: ┤ H ├┤0                                                ├»\n",
                            "        ├───┤│                                                 │»\n",
                            "   q_1: ┤ H ├┤1                                                ├»\n",
                            "        ├───┤│  exp(-it (IZIZ + IZZI + ZIIZ + ZIZI))(1.0*γ[0]) │»\n",
                            "   q_2: ┤ H ├┤2                                                ├»\n",
                            "        ├───┤│                                                 │»\n",
                            "   q_3: ┤ H ├┤3                                                ├»\n",
                            "        └───┘└─────────────────────────────────────────────────┘»\n",
                            "meas: 4/════════════════════════════════════════════════════════»\n",
                            "                                                                »\n",
                            "«        ┌─────────────────────────────────────────────┐ ░ ┌─┐         \n",
                            "«   q_0: ┤0                                            ├─░─┤M├─────────\n",
                            "«        │                                             │ ░ └╥┘┌─┐      \n",
                            "«   q_1: ┤1                                            ├─░──╫─┤M├──────\n",
                            "«        │  exp(-it (XIII + IXII + IIXI + IIIX))(β[0]) │ ░  ║ └╥┘┌─┐   \n",
                            "«   q_2: ┤2                                            ├─░──╫──╫─┤M├───\n",
                            "«        │                                             │ ░  ║  ║ └╥┘┌─┐\n",
                            "«   q_3: ┤3                                            ├─░──╫──╫──╫─┤M├\n",
                            "«        └─────────────────────────────────────────────┘ ░  ║  ║  ║ └╥┘\n",
                            "«meas: 4/═══════════════════════════════════════════════════╩══╩══╩══╩═\n",
                            "«                                                           0  1  2  3 </pre>"
                        ],
                        "text/plain": [
                            "        ┌───┐┌─────────────────────────────────────────────────┐»\n",
                            "   q_0: ┤ H ├┤0                                                ├»\n",
                            "        ├───┤│                                                 │»\n",
                            "   q_1: ┤ H ├┤1                                                ├»\n",
                            "        ├───┤│  exp(-it (IZIZ + IZZI + ZIIZ + ZIZI))(1.0*γ[0]) │»\n",
                            "   q_2: ┤ H ├┤2                                                ├»\n",
                            "        ├───┤│                                                 │»\n",
                            "   q_3: ┤ H ├┤3                                                ├»\n",
                            "        └───┘└─────────────────────────────────────────────────┘»\n",
                            "meas: 4/════════════════════════════════════════════════════════»\n",
                            "                                                                »\n",
                            "«        ┌─────────────────────────────────────────────┐ ░ ┌─┐         \n",
                            "«   q_0: ┤0                                            ├─░─┤M├─────────\n",
                            "«        │                                             │ ░ └╥┘┌─┐      \n",
                            "«   q_1: ┤1                                            ├─░──╫─┤M├──────\n",
                            "«        │  exp(-it (XIII + IXII + IIXI + IIIX))(β[0]) │ ░  ║ └╥┘┌─┐   \n",
                            "«   q_2: ┤2                                            ├─░──╫──╫─┤M├───\n",
                            "«        │                                             │ ░  ║  ║ └╥┘┌─┐\n",
                            "«   q_3: ┤3                                            ├─░──╫──╫──╫─┤M├\n",
                            "«        └─────────────────────────────────────────────┘ ░  ║  ║  ║ └╥┘\n",
                            "«meas: 4/═══════════════════════════════════════════════════╩══╩══╩══╩═\n",
                            "«                                                           0  1  2  3 "
                        ]
                    },
                    "execution_count": 18,
                    "metadata": {},
                    "output_type": "execute_result"
                }
            ],
            "source": [
                "qaoa.ansatz.draw()"
            ]
        },
        {
            "cell_type": "code",
            "execution_count": 43,
            "metadata": {
                "ExecuteTime": {
                    "end_time": "2019-02-01T21:17:37.687655Z",
                    "start_time": "2019-02-01T21:17:37.680171Z"
                },
                "collapsed": true,
                "deletable": false,
                "editable": false,
                "nbgrader": {
                    "grade": true,
                    "grade_id": "exercise2",
                    "locked": true,
                    "points": "2",
                    "solution": false
                }
            },
            "outputs": [],
            "source": [
                "if isinstance(qaoa, qiskit_algorithms.minimum_eigensolvers.qaoa.QAOA):\n",
                "    assert len(qaoa.ansatz.qubits) == 4\n",
                "else:\n",
                "    raise ValueError(\"Unknown type for Hamiltonian!\")"
            ]
        },
        {
            "cell_type": "markdown",
            "metadata": {},
            "source": [
                "**Exercise 3** (2 points). Run the QAOA on a simulator. Store the outcome in an object called `result`. In the case of the Forest SDK, this will store the return value of the `run_and_measure` method of the QVM. In the case of Qiskit, it will be the return value of the `run` method of the `qaoa` object. ( !! deprecated now)"
            ]
        },
        {
            "cell_type": "code",
            "execution_count": 49,
            "metadata": {
                "ExecuteTime": {
                    "end_time": "2019-02-01T21:24:52.709677Z",
                    "start_time": "2019-02-01T21:24:50.825360Z"
                },
                "collapsed": true
            },
            "outputs": [
                {
                    "name": "stdout",
                    "output_type": "stream",
                    "text": [
                        "{   'aux_operators_evaluated': None,\n",
                        "    'best_measurement': {   'bitstring': '0011',\n",
                        "                            'probability': 0.3017578125,\n",
                        "                            'state': 3,\n",
                        "                            'value': (-4.466870101471441+0j)},\n",
                        "    'cost_function_evals': 32,\n",
                        "    'eigenstate': {   0: 0.0283203125,\n",
                        "                      1: 0.015625,\n",
                        "                      2: 0.01953125,\n",
                        "                      3: 0.2529296875,\n",
                        "                      4: 0.0068359375,\n",
                        "                      5: 0.0673828125,\n",
                        "                      6: 0.07421875,\n",
                        "                      7: 0.017578125,\n",
                        "                      8: 0.025390625,\n",
                        "                      9: 0.078125,\n",
                        "                      10: 0.0703125,\n",
                        "                      11: 0.0146484375,\n",
                        "                      12: 0.2763671875,\n",
                        "                      13: 0.01953125,\n",
                        "                      14: 0.0107421875,\n",
                        "                      15: 0.0224609375},\n",
                        "    'eigenvalue': -2.147265609817515,\n",
                        "    'optimal_circuit': <qiskit.circuit.quantumcircuit.QuantumCircuit object at 0x000002E2D9D5C940>,\n",
                        "    'optimal_parameters': {   ParameterVectorElement(β[0]): -0.45046092241328395,\n",
                        "                              ParameterVectorElement(γ[0]): 1.776037594225563},\n",
                        "    'optimal_point': array([-0.45 ,  1.776]),\n",
                        "    'optimal_value': -2.147265609817515,\n",
                        "    'optimizer_evals': None,\n",
                        "    'optimizer_result': <qiskit_algorithms.optimizers.optimizer.OptimizerResult object at 0x000002E2D9D5C310>,\n",
                        "    'optimizer_time': 0.231156587600708} {   'aux_operators_evaluated': None,\n",
                        "    'eigenstate': Statevector([0.+0.j, 0.+0.j, 0.+0.j, 1.+0.j, 0.+0.j, 0.+0.j, 0.+0.j,\n",
                        "             0.+0.j, 0.+0.j, 0.+0.j, 0.+0.j, 0.+0.j, 0.+0.j, 0.+0.j,\n",
                        "             0.+0.j, 0.+0.j],\n",
                        "            dims=(2, 2, 2, 2)),\n",
                        "    'eigenvalue': -4.466870101471442}\n"
                    ]
                }
            ],
            "source": [
                "# we have now two results, Numpy solver seems better\n",
                "print(result1, result2)"
            ]
        },
        {
            "cell_type": "code",
            "execution_count": 50,
            "metadata": {},
            "outputs": [],
            "source": [
                "result = result2"
            ]
        },
        {
            "cell_type": "code",
            "execution_count": 67,
            "metadata": {},
            "outputs": [],
            "source": [
                "def sample_to_list(samp: dict):\n",
                "    return [samp[i] for i in range(1,len(samp)+1)]"
            ]
        },
        {
            "cell_type": "code",
            "execution_count": 77,
            "metadata": {
                "ExecuteTime": {
                    "end_time": "2019-02-01T21:28:58.162057Z",
                    "start_time": "2019-02-01T21:28:58.157118Z"
                },
                "collapsed": true,
                "deletable": false,
                "editable": false,
                "nbgrader": {
                    "grade": true,
                    "grade_id": "exercise3",
                    "locked": true,
                    "points": "2",
                    "solution": false
                }
            },
            "outputs": [],
            "source": [
                "ground_truth1 = [0, 0, 1, 1]\n",
                "ground_truth2 = [1, 1, 0, 0]\n",
                "if isinstance(result, list):\n",
                "    count = np.unique(result, return_counts=True, axis=0)\n",
                "    solution = count[0][np.argmax(count[1])]\n",
                "    assert abs(sum(solution == ground_truth1)-4) <= 1 or abs(sum(solution == ground_truth2)-4) <= 1\n",
                "else:\n",
                "    x = max_cut.sample_most_likely(result.eigenstate)\n",
                "    solution = sample_to_list(max_cut.get_gset_result(x))\n",
                "    # print(solution)\n",
                "    assert abs(sum(np.array(solution) == np.array(ground_truth1))-4) <= 1 or abs(sum(np.array(solution) == np.array(ground_truth2))-4) <= 1"
            ]
        }
    ],
    "metadata": {
        "kernelspec": {
            "display_name": "Python 3 [3.6]",
            "language": "python",
            "name": "python3"
        },
        "language_info": {
            "codemirror_mode": {
                "name": "ipython",
                "version": 3
            },
            "file_extension": ".py",
            "mimetype": "text/x-python",
            "name": "python",
            "nbconvert_exporter": "python",
            "pygments_lexer": "ipython3",
            "version": "3.10.2"
        },
        "varInspector": {
            "cols": {
                "lenName": 16,
                "lenType": 16,
                "lenVar": 40
            },
            "kernels_config": {
                "python": {
                    "delete_cmd_postfix": "",
                    "delete_cmd_prefix": "del ",
                    "library": "var_list.py",
                    "varRefreshCmd": "print(var_dic_list())"
                },
                "r": {
                    "delete_cmd_postfix": ") ",
                    "delete_cmd_prefix": "rm(",
                    "library": "var_list.r",
                    "varRefreshCmd": "cat(var_dic_list()) "
                }
            },
            "types_to_exclude": [
                "module",
                "function",
                "builtin_function_or_method",
                "instance",
                "_Feature"
            ],
            "window_display": false
        }
    },
    "nbformat": 4,
    "nbformat_minor": 2
}
