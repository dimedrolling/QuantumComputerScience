{
 "cells": [
  {
   "cell_type": "code",
   "execution_count": null,
   "metadata": {},
   "outputs": [],
   "source": [
    "# This cell only for package version control\n",
    "import sys\n",
    "import qiskit\n",
    "import numpy\n",
    "import matplotlib\n",
    "print('python    :', sys.version)\n",
    "print('qiskit    :',qiskit.__version__, qiskit.__qiskit_version__)\n",
    "print('numpy     :',numpy.__version__)\n",
    "print('matplotlib:',matplotlib.__version__)"
   ]
  },
  {
   "cell_type": "markdown",
   "metadata": {},
   "source": [
    "# Introduction\n",
    "\n",
    "The quantum Fourier transform and quantum phase estimation provide the foundation for many quantum algorithms, including the quantum matrix inversion, which is extensively used in quantum machine learning. It is therefore worthwhile developing a good understanding of these building blocks before moving on to more complex algorithms.\n",
    "\n",
    "We must emphasize that starting with this notebook, the algorithms presented are coherent quantum protocols. By that, we mean that the input and output of an algorithm is a quantum state that we do not have classical information about. The protocol itself might use measurements: in this sense, they are not fully coherent, since we gain some, but incomplete classical information about the quantum system. We might also perform post-selection, which means that a gate is controlled by the classical output of a measurement. In some cases, we entirely discard a calculation based on a measurement output.\n",
    "\n",
    "Why does it matter that we begin and end up with quantum states? Can't we just use state preparation starting from classical data and then perform tomography on the final state? We could do that, but state preparation and tomography are resource-intensive, and they are likely to destroy any quantum advantage. Exponential speedup can only happen if the input state is already encoded in a quantum state, or can be easily coded. This is not trivial, as in Quantum Computing there are currently no efficient ways of reading a file with input, or any efficient RAM system design. Besides, if we do a measure, we obtain only states with certain probability.\n",
    "\n",
    "An additional problem is that the quantum Fourier transformation and other quantum algorithms similar in complexity require a very large number of gates on a large number of high-quality qubits. This is why the practical relevance of these algorithms is not immediate, but since they are the core of many quantum machine learning protocols, it is essential that we take a look at them."
   ]
  },
  {
   "cell_type": "code",
   "execution_count": null,
   "metadata": {},
   "outputs": [],
   "source": [
    "import numpy as np\n",
    "from qiskit import QuantumCircuit, ClassicalRegister, QuantumRegister\n",
    "from qiskit import execute\n",
    "from qiskit import BasicAer as Aer\n",
    "import numpy.fft as fft\n",
    "π = np.pi"
   ]
  },
  {
   "cell_type": "markdown",
   "metadata": {},
   "source": [
    "# Quantum Fourier Transform\n",
    "\n",
    "The Fourier Transform is an operation which transforms a function into a sum of complex exponentials. It is a very powerful tool in many algorithms and has widespread use.  For instance, it could be used to transform the air pressure variations of a musical symphony into a description using pure (sinusoidal)  musical notes. The transform in general is reversible, and its discrete version is a unitary matrix as we will see. This already suggests that we can turn the Fourier transform into a quantum algorithm. \n",
    "\n",
    "The Quantum Fourier Transform (QFT) algorithm changes the state of the input qubits so that the coefficient of the output state are the Fourier transform of the input coefficients. The problem we signaled above is that, being the output a quantum state, there is no way of accessing these values directly. Rather, only one of the possible output states is observed, with a probability equal to the square of the absolute value of its coefficient. \n",
    "\n",
    "QFT algorithm is used as part of some other algorithms, including factoring (Shor's algorithm), finding patterns, and Quantum Phase Estimation, which is the main topic in this lecture.\n",
    "\n",
    "\n",
    "The quantum Fourier transform is a quantum algorithm for the discrete Fourier transform over the amplitudes of a wavefunction. The exposition here follows the introduction in [[1](#1)]. \n",
    "\n",
    "The classical discrete Fourier transform acts on a vector $\\vec{x}=\\begin{bmatrix}x_0\\\\ \\vdots\\\\ x_{N-1}\\end{bmatrix}$ and maps it to the vector $\\vec{y}=\\begin{bmatrix}y_0\\\\ \\vdots\\\\ y_{N-1}\\end{bmatrix}$, where $y_k = \\frac{1}{\\sqrt{N}}\\sum_{j=0}^{N-1}x_je^{ \\boldsymbol{2\\pi i} \\frac{jk}{N}}$.\n",
    "\n",
    "The quantum Fourier transform acts on an amplitude-encoded variant of this vector, the quantum state $|x\\rangle=\\sum_{i=0}^{N-1} x_i |i \\rangle$ and maps it to the quantum state $|y\\rangle=\\sum_{k=0}^{N-1} y_k |k \\rangle$, where\n",
    "$y_k = \\frac{1}{\\sqrt{N}}\\sum_{j=0}^{N-1}x_je^{\\boldsymbol{2\\pi i} \\frac{jk}{N}}$. Since the transformed state is also in the superposition of the computational basis, in essence, only the amplitudes are transformed.\n",
    "\n",
    "To derive a circuit for a power of two $N=2^n$, consider the transform acts on the state $| x \\rangle = | x_1...x_n \\rangle$ where $x_1$ is the most significant bit, unlike the usual convention followed in the course. We will rewrite a number $y$ in the fractional binary notation  as $j = 0.j_1...j_n = \\sum_{k=1}^n j_k/2^k$. For example $0.8125_d = 0.1101_b = \\sum_{k=1}^4 j_k/2^k = 1/2 + 1/4 + 0/8 + 1/16$, where the subscripts $d$ stands for decimal and $b$ for binary. The action of the unitary $U$ describing the transform can be expanded as:\n",
    "\n",
    "\n",
    "\\begin{align}\n",
    "U |j \\rangle = U |j_1 j_2 \\cdots j_n \\rangle& = \\frac{1}{\\sqrt{N}} \\sum_{k=0}^{2^n-1} e^{2\\pi i jk / 2^n} |k \\rangle \\tag 1 \\\\\n",
    "&\n",
    "\\\\\n",
    "\\end{align}\n",
    "if we notice that\n",
    "\\begin{align}\n",
    "\\\\ \n",
    "k/2^n = \\frac{1}{2^{n}}\\left(\\sum_{l=1}^{n}k_12^n + k_22^{n-1}+\\ldots+k_n2^0\\right)= \\sum_l^nk_l2^{-l}\n",
    "\\\\\n",
    "\\end{align}\n",
    "expression (1) becomes:\n",
    "\\begin{align}\n",
    "\\\\\n",
    " U |j \\rangle &= \\frac{1}{\\sqrt{N}} \\sum_{k_1=0}^{1}\\ldots\\sum_{k_n=0}^{1} e^{2\\pi i j\\left(\\sum_{l=1}^n k_l2^{-l}\\right) } \\vert k_1 ... k_n \\rangle \\\\\n",
    "&= \\frac{1}{\\sqrt{N}} \\sum_{k_1=0}^{1}\\ldots\\sum_{k_n=0}^{1} \\bigotimes_{l=1}^n e^{2\\pi i j k_l2^{-l}} | k_1 ... k_n \\rangle \\\\\n",
    "&= \\frac{1}{\\sqrt{N}} \\bigotimes_{l=1}^n \\sum_{k_l=0}^{1}  e^{2\\pi i j k_l2^{-l}} | k_1 ... k_n \\rangle \\\\\n",
    "&= \\frac{1}{\\sqrt{N}} \\bigotimes_{l=1}^n  \\left(|0\\rangle + e^{2\\pi i j 2^{-l} } |1\\rangle \\right)\\tag 2 \\\\\n",
    "\\end{align}\n",
    "now, using the equality \n",
    "\\begin{align}\n",
    "\\\\ e^{2\\pi i \\left(j_1j_2.j_3j_4j_{n-1}j_n\\right)} = e^{2\\pi i \\left(j_1j_2\\right)}e^{2\\pi i \\left(0.j_3j_4...j_{n-1}j_n\\right)} = 1.e^{2\\pi i \\left(0.j_3j_4...j_{n-1}j_n\\right)}\n",
    "\\\\\n",
    "\\end{align}\n",
    "we have finally\n",
    "\\begin{align}\n",
    "& U |j \\rangle = \\frac{1}{\\sqrt{N}} \\left(|0\\rangle + e^{2\\pi i 0.j_n} |1\\rangle\\right) \\otimes...\\otimes  \\left(\\vert0\\rangle + e^{2\\pi i 0.j_1.j_2...j_{n-1}.j_n} |1\\rangle\\right) \\tag 3\n",
    "\\end{align}\n",
    "\n",
    "\n",
    "This form of the QFT is useful for deriving a circuit, since only the last qubit depends on the the\n",
    "values of all the other input qubits. The remaining qubits depend less and less on the input qubits. "
   ]
  },
  {
   "cell_type": "markdown",
   "metadata": {},
   "source": [
    "The simple structure of eqn.(3) also allows to decompose the unitary as a combination of Hadamard gates and simple rotations.\n",
    "\n",
    "The first operation is a Hadamard as:\n",
    "\n",
    "$$\\begin{align}\n",
    "H|j_1\\rangle |j_2j_3...j_n\\rangle &=\\frac{1}{\\sqrt2}\\left(|0\\rangle+|1\\rangle\\right)|j_2j_3...j_n\\rangle,\\text{when }j_1 \\text{equals 0, and} \\\\\n",
    "&=\\frac{1}{\\sqrt2}\\left(|0\\rangle-|1\\rangle\\right)|j_2j_3...j_n\\rangle, \\text{when }j_1\\text{ equals 1}\n",
    "\\\\\n",
    "&= \\frac{1}{\\sqrt2}\\left(|0\\rangle+e^{\\pi ij_1}|1\\rangle\\right)|j_2j_3...j_n\\rangle, \\text{when }j_1\\in\\{0,1\\}\\\\\n",
    "\\end{align} $$\n",
    "<br>\n",
    "\n",
    "Using binary fractions: $e^{2\\pi i \\left(j_1/2\\right)} = e^{2\\pi i 0.j_1} $ we can write:\n",
    "\n",
    "$$ H|j_1\\rangle|j_2j_3...j_n\\rangle = \\frac{1}{\\sqrt2}\\left(|0\\rangle + e^{2\\pi i 0.j_1}|1\\rangle\\right)|j_2j_3...j_n\\rangle$$\n",
    "\n",
    "which concludes the first step.\n",
    "\n",
    "\n",
    "To handle the further steps in the transformation, we first define the (discrete phase) rotation as: \n",
    "\n",
    "\n",
    "$$R_k =\\begin{pmatrix} \n",
    "1 & 0\\\\\n",
    "0 & e^{2\\pi i/2^k} \\\\\n",
    "\\end{pmatrix}$$\n",
    "\n",
    "It is easy to see that \n",
    "\n",
    "\n",
    "\\begin{aligned}\n",
    "R_k|0\\rangle = |0\\rangle, R_k|1\\rangle = e^{\\frac{2\\pi i}{2^{k}}}|1\\rangle\n",
    "\\end{aligned}\n",
    "\n",
    "We'll use controlled gates to apply the above rotation if the control qbit is $|1\\rangle$ and do nothing if it is $|0\\rangle$.\n",
    "\n",
    "If we apply $cR_2$, the rotation conditional of $j_2$ to $|j_1\\rangle$ we get\n",
    "\n",
    "$$\n",
    "\\begin{aligned}\n",
    "cR_2\\frac{1}{\\sqrt2}\\left(|0\\rangle + e^{2\\pi i 0.j_1}|1\\rangle\\right)|j_2j_3...j_n\\rangle =&\n",
    "\\frac{1}{\\sqrt2}\\left(|0\\rangle + e^{2\\pi i 0.j_10}|1\\rangle\\right)|j_2j_3...j_n\\rangle, \\; \\text{if} j_2 = 0, \\\\\n",
    "=&\\frac{1}{\\sqrt2}\\left(|0\\rangle + e^{2\\pi i 0.j_11}|1\\rangle\\right)|j_2j_3...j_n\\rangle, \\; \\text{if} j_2 = 1, \\\\\n",
    "=&\\frac{1}{\\sqrt2}\\left(|0\\rangle + e^{2\\pi i 0.j_1j_2}|1\\rangle\\right)|j_2j_3...j_n\\rangle,\\; j_2 \\in\\left\\{0,1\\right\\}\\\\\n",
    "\\end{aligned}\n",
    "$$\n",
    "\n",
    "Successive application of the conditional rotations $cR_3$,$cR_4$.......$cR_n$ yields,\n",
    "\n",
    "$$cR_n cR_{n-1}\\dots cR_3cR_2\\frac{1}{\\sqrt2}\\left(|0\\rangle + e^{2\\pi i 0.j_1}|1\\rangle\\right)|j_2j_3...j_n\\rangle =\n",
    "\\frac{1}{\\sqrt2}\\left(|0\\rangle + e^{2\\pi i 0.j_1j_2 \\dots j_{n-1}j_n}|1\\rangle\\right)|j_2j_3...j_n\\rangle,$$\n",
    "\n",
    "And for the 2nd qubit in the j-register\n",
    "<br>\n",
    "\n",
    "$\\frac{1}{\\sqrt2}\\left(|0\\rangle + e^{2\\pi i 0.j_1}|1\\rangle\\right)cR_n cR_{n-1}\\dots cR_4cR_3H|j_2\\rangle|j_3...j_n\\rangle =\n",
    "\\frac{1}{\\sqrt{2^2}}\\left(|0\\rangle + e^{2\\pi i 0.j_1j_2 \\dots j_{n-1}j_n}|1\\rangle\\right)\\left(|0\\rangle + e^{2\\pi i 0.j_2 \\dots j_{n-1}j_n}|1\\rangle\\right)|j_3...j_n\\rangle,$$"
   ]
  },
  {
   "cell_type": "markdown",
   "metadata": {},
   "source": [
    "Successive application to all qubits in the j-register yields:\n",
    "\n",
    "$\n",
    "|j_1j_2 \\dots j_{n-1}j_n\\rangle \\xrightarrow{QFT} \\frac{1}{\\sqrt{N}} \\left(|0\\rangle + e^{2\\pi i 0.j_1j_2 \\dots j_{n-1}j_n}|1\\rangle\\right).\\left(|0\\rangle + e^{2\\pi i 0.j_2 \\dots j_{n-1}j_n}|1\\rangle\\right)\\dots \\left(|0\\rangle + e^{2\\pi i 0.j_{n-1}j_n}|1\\rangle\\right)\\left(|0\\rangle + e^{2\\pi i 0.j_n}|1\\rangle\\right) \\tag 4 \\\\\n",
    "$\n",
    "\n",
    "Which, except for a reversal of the output bits, is equal to eqn(3), showing that we can build the required transform with just H and simple rotation gates.\n",
    "\n"
   ]
  },
  {
   "cell_type": "markdown",
   "metadata": {},
   "source": [
    "<img src=\"../figures/QFT.jpg\" style=\"width:900px;height:500px\"/>"
   ]
  },
  {
   "cell_type": "markdown",
   "metadata": {},
   "source": [
    " For a three qubit QFT, the circuit is defined as:"
   ]
  },
  {
   "cell_type": "code",
   "execution_count": null,
   "metadata": {},
   "outputs": [],
   "source": [
    "q = QuantumRegister(3, 'q')\n",
    "c = ClassicalRegister(1, 'c')\n",
    "qft = QuantumCircuit(q, c)\n",
    "#act on the first qubit\n",
    "qft.h(q[0])\n",
    "#R2\n",
    "qft.cp(π/2, q[1], q[0])\n",
    "#R3\n",
    "qft.cp(π/4, q[2], q[0])\n",
    "#then on the second qubit\n",
    "#R2\n",
    "qft.h(q[1])\n",
    "qft.cp(π/2, q[2], q[1])\n",
    "#and the 3rd qubit only requires a Hadamard\n",
    "qft.h(q[2])"
   ]
  },
  {
   "cell_type": "markdown",
   "metadata": {},
   "source": [
    "We can plot it to make the qubit dependencies more apparent:"
   ]
  },
  {
   "cell_type": "code",
   "execution_count": null,
   "metadata": {},
   "outputs": [],
   "source": [
    "from qiskit.tools.visualization import circuit_drawer\n",
    "circuit_drawer(qft, output = 'mpl')"
   ]
  },
  {
   "cell_type": "markdown",
   "metadata": {},
   "source": [
    "The conditional rotations dominate the complexity, which scales as $O(N^2)$."
   ]
  },
  {
   "cell_type": "markdown",
   "metadata": {},
   "source": [
    "To see if this works properly, we make a comparison with the standard FFT routine in numpy. We use a simple 4 sample sequence that could be e.g. a time series measurement: [ 1, -1, -1, 1], and use only 2 qubits to do so. This is also allows us to design the inverse transform that we will need for the next chapter; 'Quantum Phase Estimation'.<br>\n",
    "Note that the preparation of the input data, even for this very simple case, already requires quite some work"
   ]
  },
  {
   "cell_type": "code",
   "execution_count": null,
   "metadata": {},
   "outputs": [],
   "source": [
    "q = QuantumRegister(2, 'q')\n",
    "c = ClassicalRegister(1, 'c')\n",
    "qft = QuantumCircuit(q, c)\n",
    "\n",
    "#prepare the input state [1, -1, -1, 1]\n",
    "qft.x(q[0])\n",
    "qft.h(q[0])\n",
    "qft.x(q[1])\n",
    "qft.h(q[1])\n",
    "qft.barrier()\n",
    "\n",
    "res = execute(qft, Aer.get_backend('statevector_simulator')).result()\n",
    "inp = np.array(np.real(res.get_statevector(qft)))\n",
    "print(' input vector  ',inp)\n",
    "circuit_drawer(qft, output='mpl')"
   ]
  },
  {
   "cell_type": "markdown",
   "metadata": {},
   "source": [
    "Let's compare the QFT with a numpy FFT. NB as numpy uses a different sign convention in the forward FFT, we  used the inverse numpy FFT to get the same sign convention as for our QFT"
   ]
  },
  {
   "cell_type": "code",
   "execution_count": null,
   "metadata": {},
   "outputs": [],
   "source": [
    "#forward QFT\n",
    "qft.h(q[0])\n",
    "qft.cp(π/2, q[1], q[0])\n",
    "qft.h(q[1])\n",
    "\n",
    "res = execute(qft, Aer.get_backend('statevector_simulator')).result()\n",
    "qft_outp = np.array(res.get_statevector(qft))\n",
    "print('       QFT     ',qft_outp)\n",
    "\n",
    "\n",
    "#compute the numpy IFT\n",
    "x = np.array([1., -1., -1., 1.])\n",
    "y = fft.ifft(x)\n",
    "print(' numpy FFT     ',y)"
   ]
  },
  {
   "cell_type": "markdown",
   "metadata": {},
   "source": [
    "We now create the inverse QFT for 2 qubits, as we will use this in the chapter on Quantum Phase Estimation. For this purpose we note that since $F^{-1}F = I$ we just have to run the circuit from right to left, and reverse the angles."
   ]
  },
  {
   "cell_type": "code",
   "execution_count": null,
   "metadata": {},
   "outputs": [],
   "source": [
    "qft.barrier()\n",
    "qft.h(q[1])\n",
    "qft.cp(-π/2, q[1], q[0])\n",
    "qft.h(q[0])\n",
    "\n",
    "res = execute(qft, Aer.get_backend('statevector_simulator')).result()\n",
    "iqft_outp = np.array(res.get_statevector(qft))\n",
    "print(' QFT-IQFT       ',iqft_outp)\n",
    "print(' original input ',inp)"
   ]
  },
  {
   "cell_type": "markdown",
   "metadata": {},
   "source": [
    "# Quantum phase estimation\n",
    "\n",
    "The goal of a quantum phase estimation algorithm is, given a unitary operator $U$ and an eigenvector $|u\\rangle$ of $U$, to estimate $\\theta$ in  $U|u\\rangle =e^{2 i \\pi \\theta}|u\\rangle$. Since $U$ is unitary, all of its eigenvalues have an absolute value of 1. By convention, $\\theta$ is taken to be in $[0,1]$ and is called the *phase* of $U$ associated to $|u\\rangle$.\n",
    "\n",
    "The eigenvector $|u\\rangle$ is encoded in one set of quantum registers. An additional set of $n$ qubits forms an ancilla register. At the end of the procedure, this ancilla register should contain an approximation of the [binary fraction](https://www.electronics-tutorials.ws/binary/binary-fractions.html) associated to $\\theta$, with n-bits precision. \n",
    "\n",
    "A critical element is the ability to perform the controlled unitary $\\text{cU}^{2^k}$ -- it is usually assumed to be provided to the phase estimation protocol.\n",
    "\n",
    "We will use some of the techniques employed in the derivation of the QFT to calculate the eigenvalues up to a desired accuracy of $\\theta$. First, the uniform superposition is prepared in the ancilla register via the application of Hadamard gates $H$. These qubits will act as controls for subsequent application of the unitary operators $\\text{cU},\\text{cU},^2\\dots, \\text{cU}^{2^{n-2}},\\text{cU}^{2^{n-1}}$ on $|u\\rangle$. \n",
    "\n",
    "\n",
    "\n",
    "<img src=\"../figures/QPE.jpg\" style=\"width:1200px;height:450px\"/>\n",
    "\n",
    "\n",
    "\n"
   ]
  },
  {
   "cell_type": "markdown",
   "metadata": {},
   "source": [
    "\n",
    "\n",
    "So, we have a register which is initially prepared in a eigenstate $|u\\rangle$ of $U$ and remains in this same state after the computation, whereas the ancilla evolves into a new state. \n",
    "Why does the ancilla-register change? After all, it just contains control qubits. To better understand this, lets look at the control qubit $|x_j\\rangle$ and the effect on the entire system of the application over \n",
    "it of the controlled rotation (for brevity we leave out the other qubits in the x-register as they are not affected):\n",
    "\n",
    "\\begin{align}\n",
    "|0\\rangle_j|u\\rangle \\overset{U^{2^{j}}}\\rightarrow|0\\rangle_j|u\\rangle,\\quad \n",
    "|1\\rangle|u\\rangle \\overset{U^{2^{j}}}\\rightarrow|1\\rangle_j U^{2^{j}}|u\\rangle = e^{2^{j}i\\theta }|1\\rangle_j|u\\rangle\n",
    "\\end{align}\n",
    "\n",
    "\n",
    "\n",
    "as $e^{i\\theta }$ is an eigenvalue of $U$, and essentially just a number, we can associate it with either the x- or the u-register. Hence:\n",
    "\n",
    "\\begin{align}\n",
    "U^{2^j}\\left(|0\\rangle_j + |1\\rangle_j\\right)|u\\rangle = \\left(|0\\rangle_j +e^{2^{j}i\\theta } |1\\rangle_j\\right)|u\\rangle\n",
    "\\end{align}\n",
    "\n",
    "Because we use a superposition in the control bit, what would otherwise be a global phase as result of transformations, is now captured in the control bit state. The phenomenon is also known as the 'phase kickback'.\n",
    "\n",
    "\n",
    "After applying all controlled rotations we have ended up with a superposition of n-bits in the binary expansion of  $\\theta$ in the ancilla register. We can leave $|u\\rangle$ out of the expression as it is unchanged and not entangled with the x-register:\n",
    "\n",
    "\n",
    "\n",
    "\\begin{align}\n",
    "& \\frac {1}{{\\sqrt2}^n} (|0\\rangle+{e^{2 i \\pi \\theta \\cdot 2^{n-1}}}|1\\rangle ) (|0\\rangle+{e^{2 i \\pi \\theta \\cdot 2^{n-2}}}|1\\rangle ) \\cdots (|0\\rangle+{e^{2 i \\pi \\theta \\cdot 2^{1}}}|1\\rangle )  (|0\\rangle+{e^{2i \\pi \\theta \\cdot 2^{0}}}|1\\rangle ) = \\tag 5 \\\\\n",
    "&\\frac {1}{\\sqrt2^n}\\sum _{k=0}^{2^{n}-1}e^{2 i \\pi \\theta k}|x_k\\rangle\n",
    "\\end{align}\n",
    "\n",
    "\n",
    "As a final step, we apply an inverse Fourier transform on the ancilla. But comparing eqn(4) with eqn (5) shows that the order of the qubits appear reversed, hence before we proceed with the IQFT we need to reverse the order of the qbits. Then, after applying the IQFT, we measure out in the computational basis and get the phase in the ancilla register:\n",
    "\n",
    "\\begin{align}\n",
    "\\frac {1}{2^{\\frac {n}{2}}}\\sum _{k=0}^{2^{n}-1}e^{2i \\pi \\theta k}|k\\rangle \\otimes | u \\rangle \\xrightarrow{\\mathcal{QFT}_n^{-1}} | \\tilde{\\theta} \\rangle \\otimes | u \\rangle\n",
    "\\end{align}\n",
    "\n",
    "\n",
    "\n",
    "where $\\tilde{\\theta}$ is the n-bits approximation of the binary fraction representing $\\theta$.\n"
   ]
  },
  {
   "cell_type": "markdown",
   "metadata": {},
   "source": [
    "As a toy example, let's take the $2\\times 2$ unitary matrix $\\begin{bmatrix}e^{0} & 0 \\\\0 & e^{i \\pi}\\end{bmatrix}=\\begin{bmatrix}1 & 0 \\\\0 & -1\\end{bmatrix}$, which has the eigenvectors $|0\\rangle$ and $|1\\rangle$, and phases $\\theta_0=0$ and $\\theta_1=\\frac{1}{2}$. This is a convenience choice as it allows us to represent the eigenvalues with only two bits, without any approximation.\n",
    "\n",
    "\n",
    "Therefore, the $cU^{2^k}$ gate is a controlled-$Z$ gate for $k=0$ and the identity for $k\\geq 1$.\n",
    "\n",
    "Starting with $|u\\rangle=|0\\rangle$ in the main register, we prepare the superposition in the ancilla:"
   ]
  },
  {
   "cell_type": "code",
   "execution_count": null,
   "metadata": {},
   "outputs": [],
   "source": [
    "q = QuantumRegister(3, 'q')\n",
    "c = ClassicalRegister(2, 'c')\n",
    "\n",
    "qpe = QuantumCircuit(q, c)\n",
    "qpe.h(q[0])  # ancilla qubit |x0>\n",
    "qpe.h(q[1])  # ancilla qubit |x1>\n",
    "qpe.i(q[2]) # |u>"
   ]
  },
  {
   "cell_type": "markdown",
   "metadata": {},
   "source": [
    "Next we perform the controlled unitary operations:"
   ]
  },
  {
   "cell_type": "code",
   "execution_count": null,
   "metadata": {},
   "outputs": [],
   "source": [
    "# Controlled-U0\n",
    "qpe.cz(q[1], q[2])\n",
    "# Controlled-U1\n",
    "# in this case nothing: identity as cZ.cZ = Identity\n",
    "\n",
    "circuit_drawer(qpe, output='mpl')"
   ]
  },
  {
   "cell_type": "markdown",
   "metadata": {},
   "source": [
    "Before we can apply the quantum inverse Fourier transformation to write the phase to the ancilla register we need to first swap the registers around:"
   ]
  },
  {
   "cell_type": "code",
   "execution_count": null,
   "metadata": {},
   "outputs": [],
   "source": [
    "qpe.swap(q[0], q[1])\n",
    "qpe.barrier()\n"
   ]
  },
  {
   "cell_type": "markdown",
   "metadata": {},
   "source": [
    "Now apply the 2-qubit QIFT as above"
   ]
  },
  {
   "cell_type": "code",
   "execution_count": null,
   "metadata": {},
   "outputs": [],
   "source": [
    "qpe.h(q[1])\n",
    "qpe.cp(-π / 2, q[1], q[0])  \n",
    "qpe.h(q[0])\n",
    "circuit_drawer(qpe, output='mpl')"
   ]
  },
  {
   "cell_type": "markdown",
   "metadata": {},
   "source": [
    "We will get the result from the two first registers"
   ]
  },
  {
   "cell_type": "code",
   "execution_count": null,
   "metadata": {},
   "outputs": [],
   "source": [
    "qpe.barrier()\n",
    "qpe.measure(q[0], c[0])\n",
    "qpe.measure(q[1], c[1])"
   ]
  },
  {
   "cell_type": "markdown",
   "metadata": {},
   "source": [
    "We can plot the circuit:"
   ]
  },
  {
   "cell_type": "code",
   "execution_count": null,
   "metadata": {},
   "outputs": [],
   "source": [
    "circuit_drawer(qpe, output = 'mpl')"
   ]
  },
  {
   "cell_type": "markdown",
   "metadata": {},
   "source": [
    "Let's now test our circuit:"
   ]
  },
  {
   "cell_type": "code",
   "execution_count": null,
   "metadata": {},
   "outputs": [],
   "source": [
    "backend = Aer.get_backend('qasm_simulator')\n",
    "job = execute(qpe, backend, shots=1000)\n",
    "result = job.result()\n",
    "print('{q1 q0}', result.get_counts(qpe))"
   ]
  },
  {
   "cell_type": "markdown",
   "metadata": {},
   "source": [
    "The result should be $\\theta = 0.q_0q_1$, hence $\\theta = q_0\\cdot 2^{-1} +q_1\\cdot 2^{-2} = 0\\cdot2^{-1} +0\\cdot2^{-2} = 0$"
   ]
  },
  {
   "cell_type": "markdown",
   "metadata": {},
   "source": [
    "Let's now run the circuit for the eigenvector $|1\\rangle$:"
   ]
  },
  {
   "cell_type": "code",
   "execution_count": null,
   "metadata": {},
   "outputs": [],
   "source": [
    "qpe = QuantumCircuit(q, c)\n",
    "qpe.h(q[0])\n",
    "qpe.h(q[1])\n",
    "qpe.x(q[2]) # create |1> in the main register\n",
    "# Controlled-U0\n",
    "qpe.cz(q[1], q[2])\n",
    "# Controlled-U1\n",
    "\n",
    "qpe.swap(q[0], q[1])\n",
    "qpe.h(q[1])\n",
    "qpe.cp(-π / 2, q[1], q[0])\n",
    "qpe.h(q[0])\n",
    "#qpe.swap(q[0], q[1])\n",
    "\n",
    "qpe.measure(q[0], c[0])\n",
    "qpe.measure(q[1], c[1])"
   ]
  },
  {
   "cell_type": "code",
   "execution_count": null,
   "metadata": {},
   "outputs": [],
   "source": [
    "backend = Aer.get_backend('qasm_simulator')\n",
    "job = execute(qpe, backend, shots=1000)\n",
    "result = job.result()\n",
    "print( '{q1 q0}',result.get_counts(qpe))"
   ]
  },
  {
   "cell_type": "markdown",
   "metadata": {},
   "source": [
    "The result should be $\\theta = 0.q_0q_1$, hence $\\theta = q_0\\cdot 2^{-1} +q_1\\cdot 2^{-2} = 1\\cdot2^{-1} +0\\cdot2^{-2} = 0.5$\n"
   ]
  },
  {
   "cell_type": "markdown",
   "metadata": {},
   "source": [
    "# References\n",
    "[1] M. Nielsen, I. Chuang. (2000). *Quantum Computation and Quantum Information*. Cambridge University Press. <a id='1'></a>\n",
    "\n",
    "[2] B. Schölkopf, Alexander J. Smola. (2000). *Learning with Kernels*. MIT Press. <a id='1'></a>\n",
    "\n",
    "[3] M. Schuld (2019). *Quantum Enhanced Kernel Methods 1*. https://www.youtube.com/watch?v=uDAAi5aQbMU <a id='1'></a>"
   ]
  },
  {
   "cell_type": "code",
   "execution_count": null,
   "metadata": {},
   "outputs": [],
   "source": []
  }
 ],
 "metadata": {
  "kernelspec": {
   "display_name": "Python 3",
   "language": "python",
   "name": "python3"
  },
  "language_info": {
   "codemirror_mode": {
    "name": "ipython",
    "version": 3
   },
   "file_extension": ".py",
   "mimetype": "text/x-python",
   "name": "python",
   "nbconvert_exporter": "python",
   "pygments_lexer": "ipython3",
   "version": "3.8.8"
  }
 },
 "nbformat": 4,
 "nbformat_minor": 4
}
