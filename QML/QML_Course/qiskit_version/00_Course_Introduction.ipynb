{
 "cells": [
  {
   "cell_type": "markdown",
   "metadata": {},
   "source": [
    " # Course overview\n",
    "\n",
    "The lecture notes and coding examples are presented in Jupyter notebooks. This ensures that the physics of a topic is immediately made operational in code and that you can try making changes to verify that you understand the underlying concepts. These notebooks are meant to be complementary to the video lectures, video quizzes, and assignments. \n",
    "\n",
    "The goal of this course is to show what benefits quantum technologies can provide to machine learning. In particular, we split this goal to the following objectives:\n",
    "\n",
    "1. **Quantum systems**. Quantum states, evolution, measurements, closed and open quantum systems. Basics of quantum many-body physics.\n",
    "\n",
    "2. **Quantum computing**. Quantum computing paradigms and implementations. Know the limitation of current and near-future quantum technologies and the kind of the tasks where they outperform or are expected to outperform classical computers. Variational circuits. Uses of quantum annealing.\n",
    "\n",
    "3. **Classical-quantum hybrid learning algorithms**. Encoding classical information in quantum systems. Discrete optimization in machine learning. Variational models in unsupervised learning. Kernel methods. Sampling and probabilistic models. \n",
    "\n",
    "4. **Coherent learning protocols**. Quantum Fourier transformation, quantum phase estimation, and quantum matrix inversion. Basic linear algebra subroutines by quantum algorithms. Gaussian processes on a quantum computer.\n",
    "\n",
    "Quantum computing has two main paradigms, the gate model and quantum annealing:\n",
    "\n",
    "<img src=\"../figures/gate-model_vs_quantum_annealing.svg\" alt=\"The two main quantum computing paradigms\" style=\"width: 400px;\"/>\n",
    "\n",
    "As you will see, the two are quite different, but there are overlaps in what you can use them for. Both paradigms have a lot to offer to machine learning, and therefore we will study both.\n",
    "\n",
    "Each module in the course has several notebooks. To execute them, you have to install a handful of packages -- the details are in the subsequent sections of this notebook. The notebooks often have references to previous notebooks and therefore it is recommended to study them in order. The way quantum computing packages are structured, it is inevitable that some gate operations are used prior to their formal introduction. We kept these forward references to a minimum, but if you feel lost in the beginning, just refer to the notebook on circuits.\n",
    "\n",
    "# Environment\n",
    "\n",
    "### Docker install\n",
    "\n",
    "We recommend you to use the Docker container with all required packages pre-installed, as this provides the simplest way to get started. Go to [Docker site](https://docker.com) and follow the instructions to install docker for your system.\n",
    "\n",
    "Once Docker is installed run the container with:\n",
    "\n",
    "`docker run -p 8888:8888 -v <your home directory>:/home/qmlmooc/ rmeiburg/qmlmooc:latest`\n",
    "\n",
    "Start-up your browser and go to localhost:8888 and fill in the token number created by the container. Jupyter notebook should now appear with your home directory visible. Navigate to the folder where you downloaded these notebooks and you should be able to start. Upon closing of the container any changes to the notebooks will be preserved.\n",
    "\n",
    "\n",
    "### Ubuntu package install\n",
    "\n",
    "Alternatively you can build the environment yourself. For that we recommend to use the [Anaconda distribution](https://www.anaconda.com/download/), as it will simplify installing packages. The rest of this instruction assumes that you use Anaconda.\n",
    "\n",
    "The following has only been tested on Ubuntu 20.10. We recommend you to create a virtual environment for the course to avoid any interference with your usual Python environment. The course uses Python 3 and the code will not work under Python 2. The recommended version is >=3.8. Execute this command from the command line to create a new environment for the course: `conda create -n qmlmooc python=3.8`. Once it installs some basic packages, activate the environment by `conda activate qmlmooc`. \n",
    "\n",
    "\n",
    "Almost all packages can be installed with conda: `conda install jupyter matplotlib networkx numpy scikit-learn scipy`.\n",
    "\n",
    "The only packages not available are the ones produced by quantum hardware vendors. We will use many of their packages. You can install these with pip\n",
    "For IBM qiskit: `pip install qiskit qiskit-terra[visualization]`\n",
    "\n",
    "For Dwave dimod: `pip install dwave-ocean-sdk`\n",
    "\n",
    "For Rigetti's Pyquil (Forest) the installation instruction is a little more involved.\n",
    "\n",
    "`pip install pyquil`\n",
    "\n",
    "Then check the [Pyquil installation page](https://pyquil-docs.rigetti.com/en/stable/start.html) for your specific platform to get the qvm-server and quilc-compiler. \n",
    "\n",
    "Run `qvm --version`  and `quilc --version` to verify the installation. You might get an error message indicating libffi.so.6 cannot be found. In that case locate a copy of libffi.so.6 on your system and create a symlink like:\n",
    "\n",
    "'sudo ln -s \"location of libffi.so.6\" /usr/lib/x86_64-linux-gnu/libffi.so.6`\n",
    "\n",
    "When running the notebooks a module called forest_tools.py will start the qml and quilc servers, so these do not have to be started by hand.\n",
    "\n",
    "Then to get plotting working under Rigetti. For plotting Bloch spheres\n",
    "\n",
    "\n",
    "`pip install qutip`\n",
    "\n",
    "For plotting circuit diagrams we need LateX and ImageMagick\n",
    "\n",
    "`sudo apt-get install texlive-latex-base texlive-latex-extra`\n",
    "\n",
    "`sudo apt-get install imagemagick`\n",
    "\n",
    "The configuration file for ImageMagick needs to be modified to allow Pyquil's PDF-output to be handled\n",
    "\n",
    "edit `/etc.ImageMagic-6/policy.xml` with the following two changes\n",
    "\n",
    "add PDF afer WEBP in the line <policy domain=\" coder\" rights=\"read|write pattern=\"{GIF,JPEG,PNG,WEBP}\"/> ,and uncomment this line.\n",
    "\n",
    "remove or comment out the line <policy domain=\" coder\" rights =\"none\" pattern=PDF\"/> further down in the configuration file.\n",
    "\n"
   ]
  },
  {
   "cell_type": "markdown",
   "metadata": {},
   "source": [
    "Testing the following the following cell is an indication, not yet a guarantee (WIP), that all notebooks will work."
   ]
  },
  {
   "cell_type": "code",
   "execution_count": 1,
   "metadata": {
    "ExecuteTime": {
     "end_time": "2018-11-19T19:29:52.113807Z",
     "start_time": "2018-11-19T19:29:51.038010Z"
    }
   },
   "outputs": [],
   "source": [
    "import matplotlib\n",
    "import networkx\n",
    "import numpy\n",
    "import sklearn\n",
    "import scipy\n",
    "import qutip\n",
    "\n",
    "import dwave_networkx\n",
    "import dimod\n",
    "import minorminer\n",
    "import qiskit\n",
    "# import qiskit.aqua"
   ]
  }
 ],
 "metadata": {
  "kernelspec": {
   "display_name": "Python 3",
   "language": "python",
   "name": "python3"
  },
  "language_info": {
   "codemirror_mode": {
    "name": "ipython",
    "version": 3
   },
   "file_extension": ".py",
   "mimetype": "text/x-python",
   "name": "python",
   "nbconvert_exporter": "python",
   "pygments_lexer": "ipython3",
   "version": "3.10.2"
  }
 },
 "nbformat": 4,
 "nbformat_minor": 2
}
