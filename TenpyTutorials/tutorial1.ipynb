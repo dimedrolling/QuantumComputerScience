{
 "cells": [
  {
   "cell_type": "code",
   "execution_count": 1,
   "metadata": {},
   "outputs": [],
   "source": [
    "##### Lets initialize some tensors in Python/Numpy\n",
    "import numpy as np\n"
   ]
  },
  {
   "cell_type": "code",
   "execution_count": 2,
   "metadata": {},
   "outputs": [
    {
     "data": {
      "text/plain": [
       "array([[[0.13626785, 0.4523512 , 0.5551791 , 0.42141095],\n",
       "        [0.00097821, 0.45176399, 0.01776554, 0.97553242],\n",
       "        [0.96564582, 0.73541322, 0.5732585 , 0.3889422 ]],\n",
       "\n",
       "       [[0.77204384, 0.60397388, 0.39505623, 0.87623663],\n",
       "        [0.78157161, 0.9007885 , 0.73533381, 0.5252551 ],\n",
       "        [0.16308785, 0.53078451, 0.50063061, 0.05065517]]])"
      ]
     },
     "execution_count": 2,
     "metadata": {},
     "output_type": "execute_result"
    }
   ],
   "source": [
    "# tensor with randomly generated entries, order 3, dims: 2-by-3-by-4\n",
    "A = np.random.rand(2,3,4)\n",
    "A"
   ]
  },
  {
   "cell_type": "code",
   "execution_count": 3,
   "metadata": {},
   "outputs": [
    {
     "data": {
      "text/plain": [
       "array([[1., 0., 0., 0., 0.],\n",
       "       [0., 1., 0., 0., 0.],\n",
       "       [0., 0., 1., 0., 0.],\n",
       "       [0., 0., 0., 1., 0.],\n",
       "       [0., 0., 0., 0., 1.]])"
      ]
     },
     "execution_count": 3,
     "metadata": {},
     "output_type": "execute_result"
    }
   ],
   "source": [
    "# identity matrix, order 2, dims: 5-by-5 \n",
    "B = np.eye(5,5)\n",
    "B\n"
   ]
  },
  {
   "cell_type": "code",
   "execution_count": 4,
   "metadata": {},
   "outputs": [
    {
     "data": {
      "text/plain": [
       "array([[[[1., 1., 1., 1.],\n",
       "         [1., 1., 1., 1.]],\n",
       "\n",
       "        [[1., 1., 1., 1.],\n",
       "         [1., 1., 1., 1.]],\n",
       "\n",
       "        [[1., 1., 1., 1.],\n",
       "         [1., 1., 1., 1.]],\n",
       "\n",
       "        [[1., 1., 1., 1.],\n",
       "         [1., 1., 1., 1.]]],\n",
       "\n",
       "\n",
       "       [[[1., 1., 1., 1.],\n",
       "         [1., 1., 1., 1.]],\n",
       "\n",
       "        [[1., 1., 1., 1.],\n",
       "         [1., 1., 1., 1.]],\n",
       "\n",
       "        [[1., 1., 1., 1.],\n",
       "         [1., 1., 1., 1.]],\n",
       "\n",
       "        [[1., 1., 1., 1.],\n",
       "         [1., 1., 1., 1.]]]])"
      ]
     },
     "execution_count": 4,
     "metadata": {},
     "output_type": "execute_result"
    }
   ],
   "source": [
    "# tensor of 1's, order 4, dims: 2-by-4-by-2-by-4\n",
    "C = np.ones((2,4,2,4))\n",
    "C\n"
   ]
  },
  {
   "cell_type": "code",
   "execution_count": 5,
   "metadata": {},
   "outputs": [
    {
     "data": {
      "text/plain": [
       "array([[0., 0., 0., 0., 0.],\n",
       "       [0., 0., 0., 0., 0.],\n",
       "       [0., 0., 0., 0., 0.]])"
      ]
     },
     "execution_count": 5,
     "metadata": {},
     "output_type": "execute_result"
    }
   ],
   "source": [
    "# matrix of 0's, order 2, dims: 3-by-5\n",
    "D = np.zeros((3,5))\n",
    "D\n"
   ]
  },
  {
   "cell_type": "code",
   "execution_count": 6,
   "metadata": {},
   "outputs": [
    {
     "data": {
      "text/plain": [
       "array([[[0.09127173+0.84791152j, 0.79727007+0.40354304j,\n",
       "         0.26501719+0.92590331j, 0.44186613+0.29667833j],\n",
       "        [0.17183371+0.84889693j, 0.92990726+0.03266912j,\n",
       "         0.61694537+0.68031597j, 0.16550852+0.74036625j],\n",
       "        [0.28602817+0.59020648j, 0.53522716+0.61678183j,\n",
       "         0.49869075+0.12703561j, 0.59706036+0.42500105j]],\n",
       "\n",
       "       [[0.16794404+0.95167045j, 0.66168467+0.84104495j,\n",
       "         0.26511025+0.84873783j, 0.22781792+0.38952509j],\n",
       "        [0.62413626+0.51588543j, 0.55398123+0.3770797j ,\n",
       "         0.25479438+0.39505679j, 0.24688964+0.46684095j],\n",
       "        [0.62632167+0.87807208j, 0.22916008+0.28894736j,\n",
       "         0.10951868+0.05383367j, 0.45745724+0.79573505j]]])"
      ]
     },
     "execution_count": 6,
     "metadata": {},
     "output_type": "execute_result"
    }
   ],
   "source": [
    "# initialize complex random tensor\n",
    "E = np.random.rand(2,3,4) + 1j*np.random.rand(2,3,4)\n",
    "E"
   ]
  },
  {
   "cell_type": "code",
   "execution_count": 9,
   "metadata": {},
   "outputs": [
    {
     "data": {
      "text/plain": [
       "(3, 5)"
      ]
     },
     "execution_count": 9,
     "metadata": {},
     "output_type": "execute_result"
    }
   ],
   "source": [
    "A = np.random.rand(3,4)\n",
    "B = np.random.rand(4,5)\n",
    "\n",
    "C = A@B\n",
    "C.shape"
   ]
  },
  {
   "cell_type": "code",
   "execution_count": 25,
   "metadata": {},
   "outputs": [
    {
     "data": {
      "text/plain": [
       "(6, 5)"
      ]
     },
     "execution_count": 25,
     "metadata": {},
     "output_type": "execute_result"
    }
   ],
   "source": [
    "A = np.random.rand(3,2,4)\n",
    "B = np.random.rand(1,5,4)\n",
    "C = np.random.rand(3,5,6)\n",
    "\n",
    "Ap = A.reshape(3*2,4)\n",
    "Bp = B.reshape(1*5,4)\n",
    "Bpp = Bp.transpose()\n",
    "\n",
    "AB = Ap@Bpp\n",
    "AB.shape"
   ]
  },
  {
   "cell_type": "code",
   "execution_count": 27,
   "metadata": {},
   "outputs": [
    {
     "data": {
      "text/plain": [
       "(6, 18)"
      ]
     },
     "execution_count": 27,
     "metadata": {},
     "output_type": "execute_result"
    }
   ],
   "source": [
    "\n",
    "ABp = AB.reshape(3,2,1,5)\n",
    "ABpp = ABp.reshape(3*2*1,5)\n",
    "\n",
    "Cp = C.transpose(1,0,2)\n",
    "Cpp = Cp.reshape(5, 3*6)\n",
    "\n",
    "ABC = ABpp@Cpp\n",
    "ABC.shape"
   ]
  },
  {
   "cell_type": "code",
   "execution_count": 29,
   "metadata": {},
   "outputs": [
    {
     "data": {
      "text/plain": [
       "(2, 3, 6, 3)"
      ]
     },
     "execution_count": 29,
     "metadata": {},
     "output_type": "execute_result"
    }
   ],
   "source": [
    "ABCp = ABC.reshape(2*1,3,6,3)\n",
    "ABCp.shape"
   ]
  },
  {
   "cell_type": "code",
   "execution_count": 30,
   "metadata": {},
   "outputs": [
    {
     "data": {
      "text/plain": [
       "(2, 6)"
      ]
     },
     "execution_count": 30,
     "metadata": {},
     "output_type": "execute_result"
    }
   ],
   "source": [
    "ABCpp = ABCp.trace(axis1=1,axis2=3)\n",
    "ABCpp.shape"
   ]
  },
  {
   "cell_type": "code",
   "execution_count": 31,
   "metadata": {},
   "outputs": [
    {
     "data": {
      "text/plain": [
       "(2, 1, 6)"
      ]
     },
     "execution_count": 31,
     "metadata": {},
     "output_type": "execute_result"
    }
   ],
   "source": [
    "ABCppp = ABCpp.reshape(2,1,6)\n",
    "ABCppp.shape"
   ]
  },
  {
   "cell_type": "code",
   "execution_count": 17,
   "metadata": {},
   "outputs": [],
   "source": [
    "##### Ex.1.2(a):Transpose\n",
    "A = np.random.rand(4,4,4,4)\n",
    "Atilda = A.transpose(3,0,1,2)\n",
    "# print(A)\n",
    "# print(Atilda)"
   ]
  },
  {
   "cell_type": "code",
   "execution_count": 18,
   "metadata": {},
   "outputs": [],
   "source": [
    "##### Ex.1.2(b):Reshape\n",
    "B = np.random.rand(4,4,4)\n",
    "Btilda = B.reshape(4,4**2)"
   ]
  },
  {
   "attachments": {},
   "cell_type": "markdown",
   "metadata": {},
   "source": [
    "Binary tensor contractions"
   ]
  },
  {
   "cell_type": "code",
   "execution_count": 19,
   "metadata": {},
   "outputs": [],
   "source": [
    "##### Ex.1.3(a): Binary Tensor Contraction\n",
    "d = 10\n",
    "A = np.random.rand(d,d,d,d)  \n",
    "B = np.random.rand(d,d,d,d)\n",
    "\n",
    "Ap  = A.transpose(0,2,1,3);  Bp = B.transpose(0,3,1,2)\n",
    "App = Ap.reshape(d**2,d**2); Bpp = Bp.reshape(d**2,d**2)\n",
    "Cpp = App @ Bpp;             C   = Cpp.reshape(d,d,d,d)"
   ]
  },
  {
   "attachments": {},
   "cell_type": "markdown",
   "metadata": {},
   "source": [
    "Contraction costs"
   ]
  },
  {
   "cell_type": "code",
   "execution_count": 33,
   "metadata": {},
   "outputs": [
    {
     "data": {
      "text/plain": [
       "(10, 10)"
      ]
     },
     "execution_count": 33,
     "metadata": {},
     "output_type": "execute_result"
    }
   ],
   "source": [
    "##### Ex.1.4(c): Tensor network evaluation\n",
    "d = 10\n",
    "A = np.random.rand(d,d) \n",
    "B = np.random.rand(d,d)\n",
    "C = np.random.rand(d,d)\n",
    "# Evaluare network via summation over internal indices\n",
    "F0 = np.zeros((d,d))\n",
    "for di in range(d):\n",
    "    for dj in range(d):\n",
    "        for dk in range(d):\n",
    "            for dl in range(d):\n",
    "                F0[di,dj] = F0[di,dj] + A[di,dk]*B[dk,dl]*C[dl,dj]\n",
    "            \n",
    "# Evaluare network via sequence of binary contractions\n",
    "F1 = (A @ B) @ C\n",
    "F1.shape"
   ]
  },
  {
   "cell_type": "code",
   "execution_count": 34,
   "metadata": {},
   "outputs": [
    {
     "data": {
      "text/plain": [
       "(10, 10)"
      ]
     },
     "execution_count": 34,
     "metadata": {},
     "output_type": "execute_result"
    }
   ],
   "source": [
    "F0.shape"
   ]
  },
  {
   "attachments": {},
   "cell_type": "markdown",
   "metadata": {},
   "source": [
    "# Contraction of tensor networks"
   ]
  },
  {
   "attachments": {},
   "cell_type": "markdown",
   "metadata": {},
   "source": [
    "\n",
    "Given a tensor network composed of N tensors, there are two distinct steps needed to contract the network efficiently:\n",
    "\n",
    "1) determine the optimal sequence of the (N-1) binary tensor contractions,\n",
    "\n",
    "2) evaluate each of the binary contractions in turn as a matrix multiplication by taking the proper tensor permutes and reshapes."
   ]
  },
  {
   "cell_type": "code",
   "execution_count": 37,
   "metadata": {},
   "outputs": [],
   "source": [
    "from ncon import ncon\n",
    "d = 10\n",
    "A = np.random.rand(d,d,d); B = np.random.rand(d,d,d,d)\n",
    "C = np.random.rand(d,d,d); D = np.random.rand(d,d)\n",
    "\n",
    "TensorArray = [A,B,C,D]\n",
    "IndexArray = [[1,-2,2],[-1,1,3,4],[5,3,2],[4,5]]\n",
    "\n",
    "E = ncon(TensorArray,IndexArray,order = [5,3,4,1,2])"
   ]
  },
  {
   "attachments": {},
   "cell_type": "markdown",
   "metadata": {},
   "source": [
    "let's try prev example"
   ]
  },
  {
   "cell_type": "code",
   "execution_count": 51,
   "metadata": {},
   "outputs": [],
   "source": [
    "A = np.random.rand(3,2,4)\n",
    "B = np.random.rand(1,5,4)\n",
    "C = np.random.rand(3,5,6)\n"
   ]
  },
  {
   "cell_type": "code",
   "execution_count": 52,
   "metadata": {},
   "outputs": [
    {
     "data": {
      "text/plain": [
       "array([[[6.86324473, 6.68264524, 6.40262555, 7.43631696, 6.63871936,\n",
       "         7.56377671]],\n",
       "\n",
       "       [[7.80588369, 7.20383883, 5.99861225, 6.74915898, 6.32286596,\n",
       "         7.32989899]]])"
      ]
     },
     "execution_count": 52,
     "metadata": {},
     "output_type": "execute_result"
    }
   ],
   "source": [
    "E = ncon([A,B,C],[[2,-1,1],[-2,3,1],[2,3,-3]])\n",
    "E"
   ]
  },
  {
   "cell_type": "code",
   "execution_count": 53,
   "metadata": {},
   "outputs": [
    {
     "data": {
      "text/plain": [
       "array([[[3.06747476, 8.13594872, 7.75326896, 7.05614426, 7.78537415,\n",
       "         4.29173385]],\n",
       "\n",
       "       [[4.19326406, 9.57076656, 9.16220902, 8.34593128, 9.18108045,\n",
       "         6.00479711]]])"
      ]
     },
     "execution_count": 53,
     "metadata": {},
     "output_type": "execute_result"
    }
   ],
   "source": [
    "Ap = A.reshape(3*2,4)\n",
    "Bp = B.reshape(1*5,4)\n",
    "Bpp = Bp.transpose()\n",
    "\n",
    "AB = Ap@Bpp\n",
    "AB.shape\n",
    "\n",
    "ABp = AB.reshape(3,2,1,5)\n",
    "ABpp = ABp.reshape(3*2*1,5)\n",
    "\n",
    "Cp = C.transpose(1,0,2)\n",
    "Cpp = Cp.reshape(5, 3*6)\n",
    "\n",
    "ABC = ABpp@Cpp\n",
    "ABC.shape\n",
    "ABCp = ABC.reshape(2*1,3,6,3)\n",
    "ABCp.shape\n",
    "ABCpp = ABCp.trace(axis1=1,axis2=3)\n",
    "ABCppp = ABCpp.reshape(2,1,6)\n",
    "print(ABCppp.shape)\n",
    "ABCppp"
   ]
  },
  {
   "cell_type": "code",
   "execution_count": 43,
   "metadata": {},
   "outputs": [
    {
     "data": {
      "text/plain": [
       "(10, 10, 10, 10)"
      ]
     },
     "execution_count": 43,
     "metadata": {},
     "output_type": "execute_result"
    }
   ],
   "source": [
    "##### Ex.1.5(c): Partial trace\n",
    "d = 10\n",
    "A = np.random.rand(d,d,d,d,d,d)\n",
    "\n",
    "B = ncon([A],[[-1,-2,1,-3,-4,1]])\n",
    "B.shape"
   ]
  },
  {
   "cell_type": "code",
   "execution_count": 44,
   "metadata": {},
   "outputs": [
    {
     "data": {
      "text/plain": [
       "(10, 10, 10, 10)"
      ]
     },
     "execution_count": 44,
     "metadata": {},
     "output_type": "execute_result"
    }
   ],
   "source": [
    "##### Ex.1.5(d): Disjoint networks\n",
    "d = 10\n",
    "A = np.random.rand(d,d)\n",
    "B = np.random.rand(d,d)\n",
    "\n",
    "C = ncon([A,B],[[-1,-2],[-3,-4]])\n",
    "C.shape"
   ]
  },
  {
   "cell_type": "code",
   "execution_count": null,
   "metadata": {},
   "outputs": [],
   "source": []
  }
 ],
 "metadata": {
  "kernelspec": {
   "display_name": "Python 3",
   "language": "python",
   "name": "python3"
  },
  "language_info": {
   "codemirror_mode": {
    "name": "ipython",
    "version": 3
   },
   "file_extension": ".py",
   "mimetype": "text/x-python",
   "name": "python",
   "nbconvert_exporter": "python",
   "pygments_lexer": "ipython3",
   "version": "3.10.2"
  },
  "orig_nbformat": 4
 },
 "nbformat": 4,
 "nbformat_minor": 2
}
